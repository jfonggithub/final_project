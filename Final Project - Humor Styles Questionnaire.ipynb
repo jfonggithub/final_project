{
 "metadata": {
  "name": "",
  "signature": "sha256:821fb7cb4f887e123b0bfe480c1f99269ccc6d9531e93325e2f2c11d62e5e7a3"
 },
 "nbformat": 3,
 "nbformat_minor": 0,
 "worksheets": [
  {
   "cells": [
    {
     "cell_type": "code",
     "collapsed": false,
     "input": [
      "import pandas as pd\n",
      "import numpy as np\n",
      "%pylab inline"
     ],
     "language": "python",
     "metadata": {},
     "outputs": [
      {
       "output_type": "stream",
       "stream": "stdout",
       "text": [
        "Populating the interactive namespace from numpy and matplotlib\n"
       ]
      }
     ],
     "prompt_number": 1
    },
    {
     "cell_type": "code",
     "collapsed": false,
     "input": [
      "# populate data from humor styles questionnaire study\n",
      "df = pd.read_csv(\"data.csv\")"
     ],
     "language": "python",
     "metadata": {},
     "outputs": [],
     "prompt_number": 2
    },
    {
     "cell_type": "code",
     "collapsed": false,
     "input": [
      "df.head()"
     ],
     "language": "python",
     "metadata": {},
     "outputs": [
      {
       "html": [
        "<div style=\"max-height:1000px;max-width:1500px;overflow:auto;\">\n",
        "<table border=\"1\" class=\"dataframe\">\n",
        "  <thead>\n",
        "    <tr style=\"text-align: right;\">\n",
        "      <th></th>\n",
        "      <th>Q1</th>\n",
        "      <th>Q2</th>\n",
        "      <th>Q3</th>\n",
        "      <th>Q4</th>\n",
        "      <th>Q5</th>\n",
        "      <th>Q6</th>\n",
        "      <th>Q7</th>\n",
        "      <th>Q8</th>\n",
        "      <th>Q9</th>\n",
        "      <th>Q10</th>\n",
        "      <th>...</th>\n",
        "      <th>Q30</th>\n",
        "      <th>Q31</th>\n",
        "      <th>Q32</th>\n",
        "      <th>affiliative</th>\n",
        "      <th>selfenhancing</th>\n",
        "      <th>agressive</th>\n",
        "      <th>selfdefeating</th>\n",
        "      <th>age</th>\n",
        "      <th>gender</th>\n",
        "      <th>accuracy</th>\n",
        "    </tr>\n",
        "  </thead>\n",
        "  <tbody>\n",
        "    <tr>\n",
        "      <th>0</th>\n",
        "      <td> 2</td>\n",
        "      <td> 2</td>\n",
        "      <td> 3</td>\n",
        "      <td> 1</td>\n",
        "      <td> 4</td>\n",
        "      <td> 5</td>\n",
        "      <td> 4</td>\n",
        "      <td> 3</td>\n",
        "      <td> 4</td>\n",
        "      <td> 3</td>\n",
        "      <td>...</td>\n",
        "      <td> 4</td>\n",
        "      <td> 2</td>\n",
        "      <td> 2</td>\n",
        "      <td> 4.0</td>\n",
        "      <td> 3.5</td>\n",
        "      <td> 3.0</td>\n",
        "      <td> 2.3</td>\n",
        "      <td> 25</td>\n",
        "      <td> 2</td>\n",
        "      <td> 100</td>\n",
        "    </tr>\n",
        "    <tr>\n",
        "      <th>1</th>\n",
        "      <td> 2</td>\n",
        "      <td> 3</td>\n",
        "      <td> 2</td>\n",
        "      <td> 2</td>\n",
        "      <td> 4</td>\n",
        "      <td> 4</td>\n",
        "      <td> 4</td>\n",
        "      <td> 3</td>\n",
        "      <td> 4</td>\n",
        "      <td> 3</td>\n",
        "      <td>...</td>\n",
        "      <td> 4</td>\n",
        "      <td> 3</td>\n",
        "      <td> 1</td>\n",
        "      <td> 3.3</td>\n",
        "      <td> 3.5</td>\n",
        "      <td> 3.3</td>\n",
        "      <td> 2.4</td>\n",
        "      <td> 44</td>\n",
        "      <td> 2</td>\n",
        "      <td>  90</td>\n",
        "    </tr>\n",
        "    <tr>\n",
        "      <th>2</th>\n",
        "      <td> 3</td>\n",
        "      <td> 4</td>\n",
        "      <td> 3</td>\n",
        "      <td> 3</td>\n",
        "      <td> 4</td>\n",
        "      <td> 4</td>\n",
        "      <td> 3</td>\n",
        "      <td> 1</td>\n",
        "      <td> 2</td>\n",
        "      <td> 4</td>\n",
        "      <td>...</td>\n",
        "      <td> 5</td>\n",
        "      <td> 4</td>\n",
        "      <td> 2</td>\n",
        "      <td> 3.9</td>\n",
        "      <td> 3.9</td>\n",
        "      <td> 3.1</td>\n",
        "      <td> 2.3</td>\n",
        "      <td> 50</td>\n",
        "      <td> 1</td>\n",
        "      <td>  75</td>\n",
        "    </tr>\n",
        "    <tr>\n",
        "      <th>3</th>\n",
        "      <td> 3</td>\n",
        "      <td> 3</td>\n",
        "      <td> 3</td>\n",
        "      <td> 4</td>\n",
        "      <td> 3</td>\n",
        "      <td> 5</td>\n",
        "      <td> 4</td>\n",
        "      <td> 3</td>\n",
        "      <td>-1</td>\n",
        "      <td> 4</td>\n",
        "      <td>...</td>\n",
        "      <td> 5</td>\n",
        "      <td> 3</td>\n",
        "      <td> 3</td>\n",
        "      <td> 3.6</td>\n",
        "      <td> 4.0</td>\n",
        "      <td> 2.9</td>\n",
        "      <td> 3.3</td>\n",
        "      <td> 30</td>\n",
        "      <td> 2</td>\n",
        "      <td>  85</td>\n",
        "    </tr>\n",
        "    <tr>\n",
        "      <th>4</th>\n",
        "      <td> 1</td>\n",
        "      <td> 4</td>\n",
        "      <td> 2</td>\n",
        "      <td> 2</td>\n",
        "      <td> 3</td>\n",
        "      <td> 5</td>\n",
        "      <td> 4</td>\n",
        "      <td> 1</td>\n",
        "      <td> 4</td>\n",
        "      <td> 4</td>\n",
        "      <td>...</td>\n",
        "      <td> 5</td>\n",
        "      <td> 4</td>\n",
        "      <td> 2</td>\n",
        "      <td> 4.1</td>\n",
        "      <td> 4.1</td>\n",
        "      <td> 2.9</td>\n",
        "      <td> 2.0</td>\n",
        "      <td> 52</td>\n",
        "      <td> 1</td>\n",
        "      <td>  80</td>\n",
        "    </tr>\n",
        "  </tbody>\n",
        "</table>\n",
        "<p>5 rows \u00d7 39 columns</p>\n",
        "</div>"
       ],
       "metadata": {},
       "output_type": "pyout",
       "prompt_number": 3,
       "text": [
        "   Q1  Q2  Q3  Q4  Q5  Q6  Q7  Q8  Q9  Q10 ...   Q30  Q31  Q32  affiliative  \\\n",
        "0   2   2   3   1   4   5   4   3   4    3 ...     4    2    2          4.0   \n",
        "1   2   3   2   2   4   4   4   3   4    3 ...     4    3    1          3.3   \n",
        "2   3   4   3   3   4   4   3   1   2    4 ...     5    4    2          3.9   \n",
        "3   3   3   3   4   3   5   4   3  -1    4 ...     5    3    3          3.6   \n",
        "4   1   4   2   2   3   5   4   1   4    4 ...     5    4    2          4.1   \n",
        "\n",
        "   selfenhancing  agressive  selfdefeating  age  gender  accuracy  \n",
        "0            3.5        3.0            2.3   25       2       100  \n",
        "1            3.5        3.3            2.4   44       2        90  \n",
        "2            3.9        3.1            2.3   50       1        75  \n",
        "3            4.0        2.9            3.3   30       2        85  \n",
        "4            4.1        2.9            2.0   52       1        80  \n",
        "\n",
        "[5 rows x 39 columns]"
       ]
      }
     ],
     "prompt_number": 3
    },
    {
     "cell_type": "heading",
     "level": 3,
     "metadata": {},
     "source": [
      "Perform EDA:\n",
      "1) Is the variable categorical or continuous?\n",
      "<br>All the 39 variables except gender are continuous variables. Gender is a categorical variable."
     ]
    },
    {
     "cell_type": "heading",
     "level": 3,
     "metadata": {},
     "source": [
      "2) Are there missing values? <br>From the evaluation below, it appears that all columns contain 1071 rows with no null values."
     ]
    },
    {
     "cell_type": "code",
     "collapsed": false,
     "input": [
      "df.info()"
     ],
     "language": "python",
     "metadata": {},
     "outputs": [
      {
       "output_type": "stream",
       "stream": "stdout",
       "text": [
        "<class 'pandas.core.frame.DataFrame'>\n",
        "Int64Index: 1071 entries, 0 to 1070\n",
        "Data columns (total 39 columns):\n",
        "Q1               1071 non-null int64\n",
        "Q2               1071 non-null int64\n",
        "Q3               1071 non-null int64\n",
        "Q4               1071 non-null int64\n",
        "Q5               1071 non-null int64\n",
        "Q6               1071 non-null int64\n",
        "Q7               1071 non-null int64\n",
        "Q8               1071 non-null int64\n",
        "Q9               1071 non-null int64\n",
        "Q10              1071 non-null int64\n",
        "Q11              1071 non-null int64\n",
        "Q12              1071 non-null int64\n",
        "Q13              1071 non-null int64\n",
        "Q14              1071 non-null int64\n",
        "Q15              1071 non-null int64\n",
        "Q16              1071 non-null int64\n",
        "Q17              1071 non-null int64\n",
        "Q18              1071 non-null int64\n",
        "Q19              1071 non-null int64\n",
        "Q20              1071 non-null int64\n",
        "Q21              1071 non-null int64\n",
        "Q22              1071 non-null int64\n",
        "Q23              1071 non-null int64\n",
        "Q24              1071 non-null int64\n",
        "Q25              1071 non-null int64\n",
        "Q26              1071 non-null int64\n",
        "Q27              1071 non-null int64\n",
        "Q28              1071 non-null int64\n",
        "Q29              1071 non-null int64\n",
        "Q30              1071 non-null int64\n",
        "Q31              1071 non-null int64\n",
        "Q32              1071 non-null int64\n",
        "affiliative      1071 non-null float64\n",
        "selfenhancing    1071 non-null float64\n",
        "agressive        1071 non-null float64\n",
        "selfdefeating    1071 non-null float64\n",
        "age              1071 non-null int64\n",
        "gender           1071 non-null int64\n",
        "accuracy         1071 non-null int64\n",
        "dtypes: float64(4), int64(35)"
       ]
      }
     ],
     "prompt_number": 4
    },
    {
     "cell_type": "heading",
     "level": 3,
     "metadata": {},
     "source": [
      "However, information from the study indicates that a -1 is used when the user did not select an answer for that question. There are missing values but they have already been populated with a -1. To handle missing values, drop rows where a -1 is observed."
     ]
    },
    {
     "cell_type": "code",
     "collapsed": false,
     "input": [
      "# function to return a dataframe where rows with -1 are dropped\n",
      "def findNotSelected(data):\n",
      "    unselectedDic = {}\n",
      "    tempDF = data\n",
      "    for index in range(len(data.columns)):\n",
      "        unselectedDic[index] = tempDF[tempDF.ix[:,index] == -1]\n",
      "        tempDF = tempDF.drop(unselectedDic[index].index)\n",
      "    return tempDF"
     ],
     "language": "python",
     "metadata": {},
     "outputs": [],
     "prompt_number": 5
    },
    {
     "cell_type": "code",
     "collapsed": false,
     "input": [
      "filteredDF = findNotSelected(df)"
     ],
     "language": "python",
     "metadata": {},
     "outputs": [],
     "prompt_number": 6
    },
    {
     "cell_type": "heading",
     "level": 3,
     "metadata": {},
     "source": [
      "From the evaluation below, there are 993 records after filtering. <br>About 8% of records have been dropped from the initial dataset. This percentage seems to be reasonable."
     ]
    },
    {
     "cell_type": "code",
     "collapsed": false,
     "input": [
      "print filteredDF.count()[0]"
     ],
     "language": "python",
     "metadata": {},
     "outputs": [
      {
       "output_type": "stream",
       "stream": "stdout",
       "text": [
        "993\n"
       ]
      }
     ],
     "prompt_number": 7
    },
    {
     "cell_type": "heading",
     "level": 3,
     "metadata": {},
     "source": [
      "As a sanity check, run through the filteredDF to see if there are -1 values."
     ]
    },
    {
     "cell_type": "code",
     "collapsed": false,
     "input": [
      "def totalNumberOfUnselected(data):\n",
      "    total = 0\n",
      "    unselectedDic = {}\n",
      "    for index in range(len(data.columns)):\n",
      "        unselectedDic[index] = data[data.ix[:,index] == -1]\n",
      "        total = total + unselectedDic[index].count()[0]\n",
      "    return total"
     ],
     "language": "python",
     "metadata": {},
     "outputs": [],
     "prompt_number": 8
    },
    {
     "cell_type": "heading",
     "level": 3,
     "metadata": {},
     "source": [
      "Below shows that none of the rows have a -1 value."
     ]
    },
    {
     "cell_type": "code",
     "collapsed": false,
     "input": [
      "totalNumberOfUnselected(filteredDF)"
     ],
     "language": "python",
     "metadata": {},
     "outputs": [
      {
       "metadata": {},
       "output_type": "pyout",
       "prompt_number": 9,
       "text": [
        "0"
       ]
      }
     ],
     "prompt_number": 9
    },
    {
     "cell_type": "heading",
     "level": 3,
     "metadata": {},
     "source": [
      "3. Find the Min, Max, Mean, and Standard Deviation of the continuous variables.\n",
      "<br>Analyze the mathematical nature of each variable. Check to see if there any invalid values.\n"
     ]
    },
    {
     "cell_type": "code",
     "collapsed": false,
     "input": [
      "# see the min max mean sd etc for the continuous variables in the data frame\n",
      "filteredDF.describe()"
     ],
     "language": "python",
     "metadata": {},
     "outputs": [
      {
       "html": [
        "<div style=\"max-height:1000px;max-width:1500px;overflow:auto;\">\n",
        "<table border=\"1\" class=\"dataframe\">\n",
        "  <thead>\n",
        "    <tr style=\"text-align: right;\">\n",
        "      <th></th>\n",
        "      <th>Q1</th>\n",
        "      <th>Q2</th>\n",
        "      <th>Q3</th>\n",
        "      <th>Q4</th>\n",
        "      <th>Q5</th>\n",
        "      <th>Q6</th>\n",
        "      <th>Q7</th>\n",
        "      <th>Q8</th>\n",
        "      <th>Q9</th>\n",
        "      <th>Q10</th>\n",
        "      <th>...</th>\n",
        "      <th>Q30</th>\n",
        "      <th>Q31</th>\n",
        "      <th>Q32</th>\n",
        "      <th>affiliative</th>\n",
        "      <th>selfenhancing</th>\n",
        "      <th>agressive</th>\n",
        "      <th>selfdefeating</th>\n",
        "      <th>age</th>\n",
        "      <th>gender</th>\n",
        "      <th>accuracy</th>\n",
        "    </tr>\n",
        "  </thead>\n",
        "  <tbody>\n",
        "    <tr>\n",
        "      <th>count</th>\n",
        "      <td> 993.000000</td>\n",
        "      <td> 993.000000</td>\n",
        "      <td> 993.000000</td>\n",
        "      <td> 993.000000</td>\n",
        "      <td> 993.000000</td>\n",
        "      <td> 993.000000</td>\n",
        "      <td> 993.000000</td>\n",
        "      <td> 993.000000</td>\n",
        "      <td> 993.000000</td>\n",
        "      <td> 993.000000</td>\n",
        "      <td>...</td>\n",
        "      <td> 993.000000</td>\n",
        "      <td> 993.000000</td>\n",
        "      <td> 993.000000</td>\n",
        "      <td> 993.000000</td>\n",
        "      <td> 993.000000</td>\n",
        "      <td> 993.000000</td>\n",
        "      <td> 993.000000</td>\n",
        "      <td>   993.000000</td>\n",
        "      <td> 993.00000</td>\n",
        "      <td> 993.000000</td>\n",
        "    </tr>\n",
        "    <tr>\n",
        "      <th>mean</th>\n",
        "      <td>   2.031219</td>\n",
        "      <td>   3.354481</td>\n",
        "      <td>   3.082578</td>\n",
        "      <td>   2.823766</td>\n",
        "      <td>   3.615307</td>\n",
        "      <td>   4.178248</td>\n",
        "      <td>   3.288016</td>\n",
        "      <td>   2.540785</td>\n",
        "      <td>   2.596173</td>\n",
        "      <td>   2.880161</td>\n",
        "      <td>...</td>\n",
        "      <td>   3.987915</td>\n",
        "      <td>   2.794562</td>\n",
        "      <td>   2.837865</td>\n",
        "      <td>   4.013797</td>\n",
        "      <td>   3.396375</td>\n",
        "      <td>   2.967875</td>\n",
        "      <td>   2.766465</td>\n",
        "      <td>    74.379658</td>\n",
        "      <td>   1.45720</td>\n",
        "      <td>  87.740181</td>\n",
        "    </tr>\n",
        "    <tr>\n",
        "      <th>std</th>\n",
        "      <td>   1.058773</td>\n",
        "      <td>   1.092138</td>\n",
        "      <td>   1.158432</td>\n",
        "      <td>   1.156224</td>\n",
        "      <td>   1.036164</td>\n",
        "      <td>   0.943703</td>\n",
        "      <td>   1.084916</td>\n",
        "      <td>   1.194155</td>\n",
        "      <td>   1.209449</td>\n",
        "      <td>   1.181485</td>\n",
        "      <td>...</td>\n",
        "      <td>   1.050084</td>\n",
        "      <td>   1.279527</td>\n",
        "      <td>   1.225114</td>\n",
        "      <td>   0.702746</td>\n",
        "      <td>   0.641246</td>\n",
        "      <td>   0.387019</td>\n",
        "      <td>   0.637704</td>\n",
        "      <td>  1424.846399</td>\n",
        "      <td>   0.52405</td>\n",
        "      <td>  11.477931</td>\n",
        "    </tr>\n",
        "    <tr>\n",
        "      <th>min</th>\n",
        "      <td>   1.000000</td>\n",
        "      <td>   1.000000</td>\n",
        "      <td>   1.000000</td>\n",
        "      <td>   1.000000</td>\n",
        "      <td>   1.000000</td>\n",
        "      <td>   1.000000</td>\n",
        "      <td>   1.000000</td>\n",
        "      <td>   1.000000</td>\n",
        "      <td>   1.000000</td>\n",
        "      <td>   1.000000</td>\n",
        "      <td>...</td>\n",
        "      <td>   1.000000</td>\n",
        "      <td>   1.000000</td>\n",
        "      <td>   1.000000</td>\n",
        "      <td>   1.300000</td>\n",
        "      <td>   1.000000</td>\n",
        "      <td>   1.000000</td>\n",
        "      <td>   1.000000</td>\n",
        "      <td>    14.000000</td>\n",
        "      <td>   0.00000</td>\n",
        "      <td>   7.000000</td>\n",
        "    </tr>\n",
        "    <tr>\n",
        "      <th>25%</th>\n",
        "      <td>   1.000000</td>\n",
        "      <td>   3.000000</td>\n",
        "      <td>   2.000000</td>\n",
        "      <td>   2.000000</td>\n",
        "      <td>   3.000000</td>\n",
        "      <td>   4.000000</td>\n",
        "      <td>   3.000000</td>\n",
        "      <td>   2.000000</td>\n",
        "      <td>   2.000000</td>\n",
        "      <td>   2.000000</td>\n",
        "      <td>...</td>\n",
        "      <td>   3.000000</td>\n",
        "      <td>   2.000000</td>\n",
        "      <td>   2.000000</td>\n",
        "      <td>   3.600000</td>\n",
        "      <td>   3.000000</td>\n",
        "      <td>   2.800000</td>\n",
        "      <td>   2.300000</td>\n",
        "      <td>    19.000000</td>\n",
        "      <td>   1.00000</td>\n",
        "      <td>  80.000000</td>\n",
        "    </tr>\n",
        "    <tr>\n",
        "      <th>50%</th>\n",
        "      <td>   2.000000</td>\n",
        "      <td>   3.000000</td>\n",
        "      <td>   3.000000</td>\n",
        "      <td>   3.000000</td>\n",
        "      <td>   4.000000</td>\n",
        "      <td>   4.000000</td>\n",
        "      <td>   3.000000</td>\n",
        "      <td>   2.000000</td>\n",
        "      <td>   2.000000</td>\n",
        "      <td>   3.000000</td>\n",
        "      <td>...</td>\n",
        "      <td>   4.000000</td>\n",
        "      <td>   3.000000</td>\n",
        "      <td>   3.000000</td>\n",
        "      <td>   4.100000</td>\n",
        "      <td>   3.500000</td>\n",
        "      <td>   3.000000</td>\n",
        "      <td>   2.800000</td>\n",
        "      <td>    23.000000</td>\n",
        "      <td>   1.00000</td>\n",
        "      <td>  90.000000</td>\n",
        "    </tr>\n",
        "    <tr>\n",
        "      <th>75%</th>\n",
        "      <td>   3.000000</td>\n",
        "      <td>   4.000000</td>\n",
        "      <td>   4.000000</td>\n",
        "      <td>   4.000000</td>\n",
        "      <td>   4.000000</td>\n",
        "      <td>   5.000000</td>\n",
        "      <td>   4.000000</td>\n",
        "      <td>   3.000000</td>\n",
        "      <td>   3.000000</td>\n",
        "      <td>   4.000000</td>\n",
        "      <td>...</td>\n",
        "      <td>   5.000000</td>\n",
        "      <td>   4.000000</td>\n",
        "      <td>   4.000000</td>\n",
        "      <td>   4.500000</td>\n",
        "      <td>   3.800000</td>\n",
        "      <td>   3.100000</td>\n",
        "      <td>   3.100000</td>\n",
        "      <td>    31.000000</td>\n",
        "      <td>   2.00000</td>\n",
        "      <td>  95.000000</td>\n",
        "    </tr>\n",
        "    <tr>\n",
        "      <th>max</th>\n",
        "      <td>   5.000000</td>\n",
        "      <td>   5.000000</td>\n",
        "      <td>   5.000000</td>\n",
        "      <td>   5.000000</td>\n",
        "      <td>   5.000000</td>\n",
        "      <td>   5.000000</td>\n",
        "      <td>   5.000000</td>\n",
        "      <td>   5.000000</td>\n",
        "      <td>   5.000000</td>\n",
        "      <td>   5.000000</td>\n",
        "      <td>...</td>\n",
        "      <td>   5.000000</td>\n",
        "      <td>   5.000000</td>\n",
        "      <td>   5.000000</td>\n",
        "      <td>   5.000000</td>\n",
        "      <td>   5.000000</td>\n",
        "      <td>   5.000000</td>\n",
        "      <td>   5.000000</td>\n",
        "      <td> 44849.000000</td>\n",
        "      <td>   3.00000</td>\n",
        "      <td> 100.000000</td>\n",
        "    </tr>\n",
        "  </tbody>\n",
        "</table>\n",
        "<p>8 rows \u00d7 39 columns</p>\n",
        "</div>"
       ],
       "metadata": {},
       "output_type": "pyout",
       "prompt_number": 10,
       "text": [
        "               Q1          Q2          Q3          Q4          Q5          Q6  \\\n",
        "count  993.000000  993.000000  993.000000  993.000000  993.000000  993.000000   \n",
        "mean     2.031219    3.354481    3.082578    2.823766    3.615307    4.178248   \n",
        "std      1.058773    1.092138    1.158432    1.156224    1.036164    0.943703   \n",
        "min      1.000000    1.000000    1.000000    1.000000    1.000000    1.000000   \n",
        "25%      1.000000    3.000000    2.000000    2.000000    3.000000    4.000000   \n",
        "50%      2.000000    3.000000    3.000000    3.000000    4.000000    4.000000   \n",
        "75%      3.000000    4.000000    4.000000    4.000000    4.000000    5.000000   \n",
        "max      5.000000    5.000000    5.000000    5.000000    5.000000    5.000000   \n",
        "\n",
        "               Q7          Q8          Q9         Q10     ...             Q30  \\\n",
        "count  993.000000  993.000000  993.000000  993.000000     ...      993.000000   \n",
        "mean     3.288016    2.540785    2.596173    2.880161     ...        3.987915   \n",
        "std      1.084916    1.194155    1.209449    1.181485     ...        1.050084   \n",
        "min      1.000000    1.000000    1.000000    1.000000     ...        1.000000   \n",
        "25%      3.000000    2.000000    2.000000    2.000000     ...        3.000000   \n",
        "50%      3.000000    2.000000    2.000000    3.000000     ...        4.000000   \n",
        "75%      4.000000    3.000000    3.000000    4.000000     ...        5.000000   \n",
        "max      5.000000    5.000000    5.000000    5.000000     ...        5.000000   \n",
        "\n",
        "              Q31         Q32  affiliative  selfenhancing   agressive  \\\n",
        "count  993.000000  993.000000   993.000000     993.000000  993.000000   \n",
        "mean     2.794562    2.837865     4.013797       3.396375    2.967875   \n",
        "std      1.279527    1.225114     0.702746       0.641246    0.387019   \n",
        "min      1.000000    1.000000     1.300000       1.000000    1.000000   \n",
        "25%      2.000000    2.000000     3.600000       3.000000    2.800000   \n",
        "50%      3.000000    3.000000     4.100000       3.500000    3.000000   \n",
        "75%      4.000000    4.000000     4.500000       3.800000    3.100000   \n",
        "max      5.000000    5.000000     5.000000       5.000000    5.000000   \n",
        "\n",
        "       selfdefeating           age     gender    accuracy  \n",
        "count     993.000000    993.000000  993.00000  993.000000  \n",
        "mean        2.766465     74.379658    1.45720   87.740181  \n",
        "std         0.637704   1424.846399    0.52405   11.477931  \n",
        "min         1.000000     14.000000    0.00000    7.000000  \n",
        "25%         2.300000     19.000000    1.00000   80.000000  \n",
        "50%         2.800000     23.000000    1.00000   90.000000  \n",
        "75%         3.100000     31.000000    2.00000   95.000000  \n",
        "max         5.000000  44849.000000    3.00000  100.000000  \n",
        "\n",
        "[8 rows x 39 columns]"
       ]
      }
     ],
     "prompt_number": 10
    },
    {
     "cell_type": "markdown",
     "metadata": {},
     "source": [
      "###Check to see if there are invalid data. From the study's description:\n",
      "<br>\n",
      "1) Q1 to Q32 has a scale from 1 to 5\n",
      "<br>\n",
      "2) age. entered as as text then parsed to an interger.\n",
      "<br>\n",
      "3) gender. chosen from drop down list (1=male, 2=female, 3=other)\n",
      "<br>\n",
      "4) accuracy. How accurate they thought their answers were on a scale from 0 to 100, answers were entered as text and parsed to an integer. They were instructed to enter a 0 if they did not want to be included in research.\n",
      "\n"
     ]
    },
    {
     "cell_type": "code",
     "collapsed": false,
     "input": [
      "# check to see if Q1 to Q32 have values from 1 to 5 only\n",
      "def numOfInvalidColumnsQ1ToQ32(data):\n",
      "    total = 0\n",
      "    invalidRows = {}\n",
      "    for index in range(len(data.columns)):\n",
      "        total = total + data[data.ix[:,index] < 1] | data[data.ix[:,index] > 5].count()[0]\n",
      "        print 'column index ' + str(index) + ':' + str(total)"
     ],
     "language": "python",
     "metadata": {},
     "outputs": [],
     "prompt_number": 11
    },
    {
     "cell_type": "heading",
     "level": 3,
     "metadata": {},
     "source": [
      "From the evaluation below, Q1 to Q32 columns have valid data."
     ]
    },
    {
     "cell_type": "code",
     "collapsed": false,
     "input": [
      "numOfInvalidColumnsQ1ToQ32(filteredDF.ix[:,0:32])"
     ],
     "language": "python",
     "metadata": {},
     "outputs": [
      {
       "output_type": "stream",
       "stream": "stdout",
       "text": [
        "column index 0:Empty DataFrame\n",
        "Columns: [Q1, Q2, Q3, Q4, Q5, Q6, Q7, Q8, Q9, Q10, Q11, Q12, Q13, Q14, Q15, Q16, Q17, Q18, Q19, Q20, Q21, Q22, Q23, Q24, Q25, Q26, Q27, Q28, Q29, Q30, Q31, Q32]\n",
        "Index: []\n",
        "\n",
        "[0 rows x 32 columns]\n",
        "column index 1:Empty DataFrame\n",
        "Columns: [Q1, Q2, Q3, Q4, Q5, Q6, Q7, Q8, Q9, Q10, Q11, Q12, Q13, Q14, Q15, Q16, Q17, Q18, Q19, Q20, Q21, Q22, Q23, Q24, Q25, Q26, Q27, Q28, Q29, Q30, Q31, Q32]\n",
        "Index: []\n",
        "\n",
        "[0 rows x 32 columns]\n",
        "column index 2:Empty DataFrame\n",
        "Columns: [Q1, Q2, Q3, Q4, Q5, Q6, Q7, Q8, Q9, Q10, Q11, Q12, Q13, Q14, Q15, Q16, Q17, Q18, Q19, Q20, Q21, Q22, Q23, Q24, Q25, Q26, Q27, Q28, Q29, Q30, Q31, Q32]\n",
        "Index: []\n",
        "\n",
        "[0 rows x 32 columns]\n",
        "column index 3:Empty DataFrame\n",
        "Columns: [Q1, Q2, Q3, Q4, Q5, Q6, Q7, Q8, Q9, Q10, Q11, Q12, Q13, Q14, Q15, Q16, Q17, Q18, Q19, Q20, Q21, Q22, Q23, Q24, Q25, Q26, Q27, Q28, Q29, Q30, Q31, Q32]\n",
        "Index: []\n",
        "\n",
        "[0 rows x 32 columns]\n",
        "column index 4:Empty DataFrame\n",
        "Columns: [Q1, Q2, Q3, Q4, Q5, Q6, Q7, Q8, Q9, Q10, Q11, Q12, Q13, Q14, Q15, Q16, Q17, Q18, Q19, Q20, Q21, Q22, Q23, Q24, Q25, Q26, Q27, Q28, Q29, Q30, Q31, Q32]\n",
        "Index: []\n",
        "\n",
        "[0 rows x 32 columns]\n",
        "column index 5:Empty DataFrame\n",
        "Columns: [Q1, Q2, Q3, Q4, Q5, Q6, Q7, Q8, Q9, Q10, Q11, Q12, Q13, Q14, Q15, Q16, Q17, Q18, Q19, Q20, Q21, Q22, Q23, Q24, Q25, Q26, Q27, Q28, Q29, Q30, Q31, Q32]\n",
        "Index: []\n",
        "\n",
        "[0 rows x 32 columns]\n",
        "column index 6:Empty DataFrame\n",
        "Columns: [Q1, Q2, Q3, Q4, Q5, Q6, Q7, Q8, Q9, Q10, Q11, Q12, Q13, Q14, Q15, Q16, Q17, Q18, Q19, Q20, Q21, Q22, Q23, Q24, Q25, Q26, Q27, Q28, Q29, Q30, Q31, Q32]\n",
        "Index: []\n",
        "\n",
        "[0 rows x 32 columns]"
       ]
      },
      {
       "output_type": "stream",
       "stream": "stdout",
       "text": [
        "\n",
        "column index 7:Empty DataFrame\n",
        "Columns: [Q1, Q2, Q3, Q4, Q5, Q6, Q7, Q8, Q9, Q10, Q11, Q12, Q13, Q14, Q15, Q16, Q17, Q18, Q19, Q20, Q21, Q22, Q23, Q24, Q25, Q26, Q27, Q28, Q29, Q30, Q31, Q32]\n",
        "Index: []\n",
        "\n",
        "[0 rows x 32 columns]\n",
        "column index 8:Empty DataFrame\n",
        "Columns: [Q1, Q2, Q3, Q4, Q5, Q6, Q7, Q8, Q9, Q10, Q11, Q12, Q13, Q14, Q15, Q16, Q17, Q18, Q19, Q20, Q21, Q22, Q23, Q24, Q25, Q26, Q27, Q28, Q29, Q30, Q31, Q32]\n",
        "Index: []\n",
        "\n",
        "[0 rows x 32 columns]\n",
        "column index 9:Empty DataFrame\n",
        "Columns: [Q1, Q2, Q3, Q4, Q5, Q6, Q7, Q8, Q9, Q10, Q11, Q12, Q13, Q14, Q15, Q16, Q17, Q18, Q19, Q20, Q21, Q22, Q23, Q24, Q25, Q26, Q27, Q28, Q29, Q30, Q31, Q32]\n",
        "Index: []\n",
        "\n",
        "[0 rows x 32 columns]\n",
        "column index 10:Empty DataFrame\n",
        "Columns: [Q1, Q2, Q3, Q4, Q5, Q6, Q7, Q8, Q9, Q10, Q11, Q12, Q13, Q14, Q15, Q16, Q17, Q18, Q19, Q20, Q21, Q22, Q23, Q24, Q25, Q26, Q27, Q28, Q29, Q30, Q31, Q32]\n",
        "Index: []\n",
        "\n",
        "[0 rows x 32 columns]\n",
        "column index 11:Empty DataFrame\n",
        "Columns: [Q1, Q2, Q3, Q4, Q5, Q6, Q7, Q8, Q9, Q10, Q11, Q12, Q13, Q14, Q15, Q16, Q17, Q18, Q19, Q20, Q21, Q22, Q23, Q24, Q25, Q26, Q27, Q28, Q29, Q30, Q31, Q32]\n",
        "Index: []\n",
        "\n",
        "[0 rows x 32 columns]"
       ]
      },
      {
       "output_type": "stream",
       "stream": "stdout",
       "text": [
        "\n",
        "column index 12:Empty DataFrame\n",
        "Columns: [Q1, Q2, Q3, Q4, Q5, Q6, Q7, Q8, Q9, Q10, Q11, Q12, Q13, Q14, Q15, Q16, Q17, Q18, Q19, Q20, Q21, Q22, Q23, Q24, Q25, Q26, Q27, Q28, Q29, Q30, Q31, Q32]\n",
        "Index: []\n",
        "\n",
        "[0 rows x 32 columns]\n",
        "column index 13:Empty DataFrame\n",
        "Columns: [Q1, Q2, Q3, Q4, Q5, Q6, Q7, Q8, Q9, Q10, Q11, Q12, Q13, Q14, Q15, Q16, Q17, Q18, Q19, Q20, Q21, Q22, Q23, Q24, Q25, Q26, Q27, Q28, Q29, Q30, Q31, Q32]\n",
        "Index: []\n",
        "\n",
        "[0 rows x 32 columns]\n",
        "column index 14:Empty DataFrame\n",
        "Columns: [Q1, Q2, Q3, Q4, Q5, Q6, Q7, Q8, Q9, Q10, Q11, Q12, Q13, Q14, Q15, Q16, Q17, Q18, Q19, Q20, Q21, Q22, Q23, Q24, Q25, Q26, Q27, Q28, Q29, Q30, Q31, Q32]\n",
        "Index: []\n",
        "\n",
        "[0 rows x 32 columns]\n",
        "column index 15:Empty DataFrame\n",
        "Columns: [Q1, Q2, Q3, Q4, Q5, Q6, Q7, Q8, Q9, Q10, Q11, Q12, Q13, Q14, Q15, Q16, Q17, Q18, Q19, Q20, Q21, Q22, Q23, Q24, Q25, Q26, Q27, Q28, Q29, Q30, Q31, Q32]\n",
        "Index: []\n",
        "\n",
        "[0 rows x 32 columns]\n",
        "column index 16:Empty DataFrame\n",
        "Columns: [Q1, Q2, Q3, Q4, Q5, Q6, Q7, Q8, Q9, Q10, Q11, Q12, Q13, Q14, Q15, Q16, Q17, Q18, Q19, Q20, Q21, Q22, Q23, Q24, Q25, Q26, Q27, Q28, Q29, Q30, Q31, Q32]\n",
        "Index: []\n",
        "\n",
        "[0 rows x 32 columns]"
       ]
      },
      {
       "output_type": "stream",
       "stream": "stdout",
       "text": [
        "\n",
        "column index 17:Empty DataFrame\n",
        "Columns: [Q1, Q2, Q3, Q4, Q5, Q6, Q7, Q8, Q9, Q10, Q11, Q12, Q13, Q14, Q15, Q16, Q17, Q18, Q19, Q20, Q21, Q22, Q23, Q24, Q25, Q26, Q27, Q28, Q29, Q30, Q31, Q32]\n",
        "Index: []\n",
        "\n",
        "[0 rows x 32 columns]\n",
        "column index 18:Empty DataFrame\n",
        "Columns: [Q1, Q2, Q3, Q4, Q5, Q6, Q7, Q8, Q9, Q10, Q11, Q12, Q13, Q14, Q15, Q16, Q17, Q18, Q19, Q20, Q21, Q22, Q23, Q24, Q25, Q26, Q27, Q28, Q29, Q30, Q31, Q32]\n",
        "Index: []\n",
        "\n",
        "[0 rows x 32 columns]\n",
        "column index 19:Empty DataFrame\n",
        "Columns: [Q1, Q2, Q3, Q4, Q5, Q6, Q7, Q8, Q9, Q10, Q11, Q12, Q13, Q14, Q15, Q16, Q17, Q18, Q19, Q20, Q21, Q22, Q23, Q24, Q25, Q26, Q27, Q28, Q29, Q30, Q31, Q32]\n",
        "Index: []\n",
        "\n",
        "[0 rows x 32 columns]\n",
        "column index 20:Empty DataFrame\n",
        "Columns: [Q1, Q2, Q3, Q4, Q5, Q6, Q7, Q8, Q9, Q10, Q11, Q12, Q13, Q14, Q15, Q16, Q17, Q18, Q19, Q20, Q21, Q22, Q23, Q24, Q25, Q26, Q27, Q28, Q29, Q30, Q31, Q32]\n",
        "Index: []\n",
        "\n",
        "[0 rows x 32 columns]\n",
        "column index 21:Empty DataFrame\n",
        "Columns: [Q1, Q2, Q3, Q4, Q5, Q6, Q7, Q8, Q9, Q10, Q11, Q12, Q13, Q14, Q15, Q16, Q17, Q18, Q19, Q20, Q21, Q22, Q23, Q24, Q25, Q26, Q27, Q28, Q29, Q30, Q31, Q32]\n",
        "Index: []\n",
        "\n",
        "[0 rows x 32 columns]\n",
        "column index 22:Empty DataFrame\n",
        "Columns: [Q1, Q2, Q3, Q4, Q5, Q6, Q7, Q8, Q9, Q10, Q11, Q12, Q13, Q14, Q15, Q16, Q17, Q18, Q19, Q20, Q21, Q22, Q23, Q24, Q25, Q26, Q27, Q28, Q29, Q30, Q31, Q32]\n",
        "Index: []\n",
        "\n",
        "[0 rows x 32 columns]"
       ]
      },
      {
       "output_type": "stream",
       "stream": "stdout",
       "text": [
        "\n",
        "column index 23:Empty DataFrame\n",
        "Columns: [Q1, Q2, Q3, Q4, Q5, Q6, Q7, Q8, Q9, Q10, Q11, Q12, Q13, Q14, Q15, Q16, Q17, Q18, Q19, Q20, Q21, Q22, Q23, Q24, Q25, Q26, Q27, Q28, Q29, Q30, Q31, Q32]\n",
        "Index: []\n",
        "\n",
        "[0 rows x 32 columns]\n",
        "column index 24:Empty DataFrame\n",
        "Columns: [Q1, Q2, Q3, Q4, Q5, Q6, Q7, Q8, Q9, Q10, Q11, Q12, Q13, Q14, Q15, Q16, Q17, Q18, Q19, Q20, Q21, Q22, Q23, Q24, Q25, Q26, Q27, Q28, Q29, Q30, Q31, Q32]\n",
        "Index: []\n",
        "\n",
        "[0 rows x 32 columns]\n",
        "column index 25:Empty DataFrame\n",
        "Columns: [Q1, Q2, Q3, Q4, Q5, Q6, Q7, Q8, Q9, Q10, Q11, Q12, Q13, Q14, Q15, Q16, Q17, Q18, Q19, Q20, Q21, Q22, Q23, Q24, Q25, Q26, Q27, Q28, Q29, Q30, Q31, Q32]\n",
        "Index: []\n",
        "\n",
        "[0 rows x 32 columns]\n",
        "column index 26:Empty DataFrame\n",
        "Columns: [Q1, Q2, Q3, Q4, Q5, Q6, Q7, Q8, Q9, Q10, Q11, Q12, Q13, Q14, Q15, Q16, Q17, Q18, Q19, Q20, Q21, Q22, Q23, Q24, Q25, Q26, Q27, Q28, Q29, Q30, Q31, Q32]\n",
        "Index: []\n",
        "\n",
        "[0 rows x 32 columns]\n",
        "column index 27:Empty DataFrame\n",
        "Columns: [Q1, Q2, Q3, Q4, Q5, Q6, Q7, Q8, Q9, Q10, Q11, Q12, Q13, Q14, Q15, Q16, Q17, Q18, Q19, Q20, Q21, Q22, Q23, Q24, Q25, Q26, Q27, Q28, Q29, Q30, Q31, Q32]\n",
        "Index: []\n",
        "\n",
        "[0 rows x 32 columns]\n",
        "column index 28:Empty DataFrame\n",
        "Columns: [Q1, Q2, Q3, Q4, Q5, Q6, Q7, Q8, Q9, Q10, Q11, Q12, Q13, Q14, Q15, Q16, Q17, Q18, Q19, Q20, Q21, Q22, Q23, Q24, Q25, Q26, Q27, Q28, Q29, Q30, Q31, Q32]\n",
        "Index: []\n",
        "\n",
        "[0 rows x 32 columns]"
       ]
      },
      {
       "output_type": "stream",
       "stream": "stdout",
       "text": [
        "\n",
        "column index 29:Empty DataFrame\n",
        "Columns: [Q1, Q2, Q3, Q4, Q5, Q6, Q7, Q8, Q9, Q10, Q11, Q12, Q13, Q14, Q15, Q16, Q17, Q18, Q19, Q20, Q21, Q22, Q23, Q24, Q25, Q26, Q27, Q28, Q29, Q30, Q31, Q32]\n",
        "Index: []\n",
        "\n",
        "[0 rows x 32 columns]\n",
        "column index 30:Empty DataFrame\n",
        "Columns: [Q1, Q2, Q3, Q4, Q5, Q6, Q7, Q8, Q9, Q10, Q11, Q12, Q13, Q14, Q15, Q16, Q17, Q18, Q19, Q20, Q21, Q22, Q23, Q24, Q25, Q26, Q27, Q28, Q29, Q30, Q31, Q32]\n",
        "Index: []\n",
        "\n",
        "[0 rows x 32 columns]\n",
        "column index 31:Empty DataFrame\n",
        "Columns: [Q1, Q2, Q3, Q4, Q5, Q6, Q7, Q8, Q9, Q10, Q11, Q12, Q13, Q14, Q15, Q16, Q17, Q18, Q19, Q20, Q21, Q22, Q23, Q24, Q25, Q26, Q27, Q28, Q29, Q30, Q31, Q32]\n",
        "Index: []\n",
        "\n",
        "[0 rows x 32 columns]\n"
       ]
      }
     ],
     "prompt_number": 12
    },
    {
     "cell_type": "heading",
     "level": 3,
     "metadata": {},
     "source": [
      "The age column appears to have invalid values (max value = 44849). Remove any age greater or equal to 150."
     ]
    },
    {
     "cell_type": "code",
     "collapsed": false,
     "input": [
      "filteredDF = filteredDF[filteredDF['age'] < 150]"
     ],
     "language": "python",
     "metadata": {},
     "outputs": [],
     "prompt_number": 13
    },
    {
     "cell_type": "heading",
     "level": 3,
     "metadata": {},
     "source": [
      "The gender column also has invalid values (min = 0).It is only allowed to be (1=male, 2=female, 3=other).<br> Remove any gender with value = 0."
     ]
    },
    {
     "cell_type": "code",
     "collapsed": false,
     "input": [
      "filteredDF = filteredDF[filteredDF['gender'] > 0]"
     ],
     "language": "python",
     "metadata": {},
     "outputs": [],
     "prompt_number": 14
    },
    {
     "cell_type": "heading",
     "level": 3,
     "metadata": {},
     "source": [
      "Lastly, the accuracy column has no invalid values (all the values are between 0 to 100)."
     ]
    },
    {
     "cell_type": "code",
     "collapsed": false,
     "input": [
      "# sanity check after removing rows of invalid data\n",
      "# now, all the columns have valid data. the total number of rows is down to 985 (about 8% data has been dropped), \n",
      "# which is still reasonable.\n",
      "filteredDF.describe()"
     ],
     "language": "python",
     "metadata": {},
     "outputs": [
      {
       "html": [
        "<div style=\"max-height:1000px;max-width:1500px;overflow:auto;\">\n",
        "<table border=\"1\" class=\"dataframe\">\n",
        "  <thead>\n",
        "    <tr style=\"text-align: right;\">\n",
        "      <th></th>\n",
        "      <th>Q1</th>\n",
        "      <th>Q2</th>\n",
        "      <th>Q3</th>\n",
        "      <th>Q4</th>\n",
        "      <th>Q5</th>\n",
        "      <th>Q6</th>\n",
        "      <th>Q7</th>\n",
        "      <th>Q8</th>\n",
        "      <th>Q9</th>\n",
        "      <th>Q10</th>\n",
        "      <th>...</th>\n",
        "      <th>Q30</th>\n",
        "      <th>Q31</th>\n",
        "      <th>Q32</th>\n",
        "      <th>affiliative</th>\n",
        "      <th>selfenhancing</th>\n",
        "      <th>agressive</th>\n",
        "      <th>selfdefeating</th>\n",
        "      <th>age</th>\n",
        "      <th>gender</th>\n",
        "      <th>accuracy</th>\n",
        "    </tr>\n",
        "  </thead>\n",
        "  <tbody>\n",
        "    <tr>\n",
        "      <th>count</th>\n",
        "      <td> 985.000000</td>\n",
        "      <td> 985.000000</td>\n",
        "      <td> 985.000000</td>\n",
        "      <td> 985.000000</td>\n",
        "      <td> 985.000000</td>\n",
        "      <td> 985.000000</td>\n",
        "      <td> 985.000000</td>\n",
        "      <td> 985.000000</td>\n",
        "      <td> 985.000000</td>\n",
        "      <td> 985.000000</td>\n",
        "      <td>...</td>\n",
        "      <td> 985.000000</td>\n",
        "      <td> 985.000000</td>\n",
        "      <td> 985.000000</td>\n",
        "      <td> 985.000000</td>\n",
        "      <td> 985.000000</td>\n",
        "      <td> 985.000000</td>\n",
        "      <td> 985.000000</td>\n",
        "      <td> 985.000000</td>\n",
        "      <td> 985.000000</td>\n",
        "      <td> 985.000000</td>\n",
        "    </tr>\n",
        "    <tr>\n",
        "      <th>mean</th>\n",
        "      <td>   2.036548</td>\n",
        "      <td>   3.346193</td>\n",
        "      <td>   3.075127</td>\n",
        "      <td>   2.827411</td>\n",
        "      <td>   3.614213</td>\n",
        "      <td>   4.172589</td>\n",
        "      <td>   3.288325</td>\n",
        "      <td>   2.540102</td>\n",
        "      <td>   2.602030</td>\n",
        "      <td>   2.871066</td>\n",
        "      <td>...</td>\n",
        "      <td>   3.979695</td>\n",
        "      <td>   2.800000</td>\n",
        "      <td>   2.835533</td>\n",
        "      <td>   4.009746</td>\n",
        "      <td>   3.390558</td>\n",
        "      <td>   2.967817</td>\n",
        "      <td>   2.766599</td>\n",
        "      <td>  26.244670</td>\n",
        "      <td>   1.464975</td>\n",
        "      <td>  87.695431</td>\n",
        "    </tr>\n",
        "    <tr>\n",
        "      <th>std</th>\n",
        "      <td>   1.060509</td>\n",
        "      <td>   1.090866</td>\n",
        "      <td>   1.157531</td>\n",
        "      <td>   1.156749</td>\n",
        "      <td>   1.033681</td>\n",
        "      <td>   0.944959</td>\n",
        "      <td>   1.087678</td>\n",
        "      <td>   1.193932</td>\n",
        "      <td>   1.210555</td>\n",
        "      <td>   1.181078</td>\n",
        "      <td>...</td>\n",
        "      <td>   1.050355</td>\n",
        "      <td>   1.276587</td>\n",
        "      <td>   1.224478</td>\n",
        "      <td>   0.703567</td>\n",
        "      <td>   0.640108</td>\n",
        "      <td>   0.387337</td>\n",
        "      <td>   0.637043</td>\n",
        "      <td>  10.817783</td>\n",
        "      <td>   0.515059</td>\n",
        "      <td>  11.480924</td>\n",
        "    </tr>\n",
        "    <tr>\n",
        "      <th>min</th>\n",
        "      <td>   1.000000</td>\n",
        "      <td>   1.000000</td>\n",
        "      <td>   1.000000</td>\n",
        "      <td>   1.000000</td>\n",
        "      <td>   1.000000</td>\n",
        "      <td>   1.000000</td>\n",
        "      <td>   1.000000</td>\n",
        "      <td>   1.000000</td>\n",
        "      <td>   1.000000</td>\n",
        "      <td>   1.000000</td>\n",
        "      <td>...</td>\n",
        "      <td>   1.000000</td>\n",
        "      <td>   1.000000</td>\n",
        "      <td>   1.000000</td>\n",
        "      <td>   1.300000</td>\n",
        "      <td>   1.000000</td>\n",
        "      <td>   1.000000</td>\n",
        "      <td>   1.000000</td>\n",
        "      <td>  14.000000</td>\n",
        "      <td>   1.000000</td>\n",
        "      <td>   7.000000</td>\n",
        "    </tr>\n",
        "    <tr>\n",
        "      <th>25%</th>\n",
        "      <td>   1.000000</td>\n",
        "      <td>   3.000000</td>\n",
        "      <td>   2.000000</td>\n",
        "      <td>   2.000000</td>\n",
        "      <td>   3.000000</td>\n",
        "      <td>   4.000000</td>\n",
        "      <td>   3.000000</td>\n",
        "      <td>   2.000000</td>\n",
        "      <td>   2.000000</td>\n",
        "      <td>   2.000000</td>\n",
        "      <td>...</td>\n",
        "      <td>   3.000000</td>\n",
        "      <td>   2.000000</td>\n",
        "      <td>   2.000000</td>\n",
        "      <td>   3.600000</td>\n",
        "      <td>   3.000000</td>\n",
        "      <td>   2.800000</td>\n",
        "      <td>   2.300000</td>\n",
        "      <td>  19.000000</td>\n",
        "      <td>   1.000000</td>\n",
        "      <td>  80.000000</td>\n",
        "    </tr>\n",
        "    <tr>\n",
        "      <th>50%</th>\n",
        "      <td>   2.000000</td>\n",
        "      <td>   3.000000</td>\n",
        "      <td>   3.000000</td>\n",
        "      <td>   3.000000</td>\n",
        "      <td>   4.000000</td>\n",
        "      <td>   4.000000</td>\n",
        "      <td>   3.000000</td>\n",
        "      <td>   2.000000</td>\n",
        "      <td>   2.000000</td>\n",
        "      <td>   3.000000</td>\n",
        "      <td>...</td>\n",
        "      <td>   4.000000</td>\n",
        "      <td>   3.000000</td>\n",
        "      <td>   3.000000</td>\n",
        "      <td>   4.100000</td>\n",
        "      <td>   3.500000</td>\n",
        "      <td>   3.000000</td>\n",
        "      <td>   2.800000</td>\n",
        "      <td>  22.000000</td>\n",
        "      <td>   1.000000</td>\n",
        "      <td>  90.000000</td>\n",
        "    </tr>\n",
        "    <tr>\n",
        "      <th>75%</th>\n",
        "      <td>   3.000000</td>\n",
        "      <td>   4.000000</td>\n",
        "      <td>   4.000000</td>\n",
        "      <td>   4.000000</td>\n",
        "      <td>   4.000000</td>\n",
        "      <td>   5.000000</td>\n",
        "      <td>   4.000000</td>\n",
        "      <td>   3.000000</td>\n",
        "      <td>   3.000000</td>\n",
        "      <td>   4.000000</td>\n",
        "      <td>...</td>\n",
        "      <td>   5.000000</td>\n",
        "      <td>   4.000000</td>\n",
        "      <td>   4.000000</td>\n",
        "      <td>   4.500000</td>\n",
        "      <td>   3.800000</td>\n",
        "      <td>   3.100000</td>\n",
        "      <td>   3.100000</td>\n",
        "      <td>  30.000000</td>\n",
        "      <td>   2.000000</td>\n",
        "      <td>  95.000000</td>\n",
        "    </tr>\n",
        "    <tr>\n",
        "      <th>max</th>\n",
        "      <td>   5.000000</td>\n",
        "      <td>   5.000000</td>\n",
        "      <td>   5.000000</td>\n",
        "      <td>   5.000000</td>\n",
        "      <td>   5.000000</td>\n",
        "      <td>   5.000000</td>\n",
        "      <td>   5.000000</td>\n",
        "      <td>   5.000000</td>\n",
        "      <td>   5.000000</td>\n",
        "      <td>   5.000000</td>\n",
        "      <td>...</td>\n",
        "      <td>   5.000000</td>\n",
        "      <td>   5.000000</td>\n",
        "      <td>   5.000000</td>\n",
        "      <td>   5.000000</td>\n",
        "      <td>   5.000000</td>\n",
        "      <td>   5.000000</td>\n",
        "      <td>   5.000000</td>\n",
        "      <td>  70.000000</td>\n",
        "      <td>   3.000000</td>\n",
        "      <td> 100.000000</td>\n",
        "    </tr>\n",
        "  </tbody>\n",
        "</table>\n",
        "<p>8 rows \u00d7 39 columns</p>\n",
        "</div>"
       ],
       "metadata": {},
       "output_type": "pyout",
       "prompt_number": 15,
       "text": [
        "               Q1          Q2          Q3          Q4          Q5          Q6  \\\n",
        "count  985.000000  985.000000  985.000000  985.000000  985.000000  985.000000   \n",
        "mean     2.036548    3.346193    3.075127    2.827411    3.614213    4.172589   \n",
        "std      1.060509    1.090866    1.157531    1.156749    1.033681    0.944959   \n",
        "min      1.000000    1.000000    1.000000    1.000000    1.000000    1.000000   \n",
        "25%      1.000000    3.000000    2.000000    2.000000    3.000000    4.000000   \n",
        "50%      2.000000    3.000000    3.000000    3.000000    4.000000    4.000000   \n",
        "75%      3.000000    4.000000    4.000000    4.000000    4.000000    5.000000   \n",
        "max      5.000000    5.000000    5.000000    5.000000    5.000000    5.000000   \n",
        "\n",
        "               Q7          Q8          Q9         Q10     ...             Q30  \\\n",
        "count  985.000000  985.000000  985.000000  985.000000     ...      985.000000   \n",
        "mean     3.288325    2.540102    2.602030    2.871066     ...        3.979695   \n",
        "std      1.087678    1.193932    1.210555    1.181078     ...        1.050355   \n",
        "min      1.000000    1.000000    1.000000    1.000000     ...        1.000000   \n",
        "25%      3.000000    2.000000    2.000000    2.000000     ...        3.000000   \n",
        "50%      3.000000    2.000000    2.000000    3.000000     ...        4.000000   \n",
        "75%      4.000000    3.000000    3.000000    4.000000     ...        5.000000   \n",
        "max      5.000000    5.000000    5.000000    5.000000     ...        5.000000   \n",
        "\n",
        "              Q31         Q32  affiliative  selfenhancing   agressive  \\\n",
        "count  985.000000  985.000000   985.000000     985.000000  985.000000   \n",
        "mean     2.800000    2.835533     4.009746       3.390558    2.967817   \n",
        "std      1.276587    1.224478     0.703567       0.640108    0.387337   \n",
        "min      1.000000    1.000000     1.300000       1.000000    1.000000   \n",
        "25%      2.000000    2.000000     3.600000       3.000000    2.800000   \n",
        "50%      3.000000    3.000000     4.100000       3.500000    3.000000   \n",
        "75%      4.000000    4.000000     4.500000       3.800000    3.100000   \n",
        "max      5.000000    5.000000     5.000000       5.000000    5.000000   \n",
        "\n",
        "       selfdefeating         age      gender    accuracy  \n",
        "count     985.000000  985.000000  985.000000  985.000000  \n",
        "mean        2.766599   26.244670    1.464975   87.695431  \n",
        "std         0.637043   10.817783    0.515059   11.480924  \n",
        "min         1.000000   14.000000    1.000000    7.000000  \n",
        "25%         2.300000   19.000000    1.000000   80.000000  \n",
        "50%         2.800000   22.000000    1.000000   90.000000  \n",
        "75%         3.100000   30.000000    2.000000   95.000000  \n",
        "max         5.000000   70.000000    3.000000  100.000000  \n",
        "\n",
        "[8 rows x 39 columns]"
       ]
      }
     ],
     "prompt_number": 15
    },
    {
     "cell_type": "heading",
     "level": 2,
     "metadata": {},
     "source": [
      "Histograms for different variables"
     ]
    },
    {
     "cell_type": "code",
     "collapsed": false,
     "input": [
      "# Age distribution\n",
      "filteredDF.age.hist(bins=50)"
     ],
     "language": "python",
     "metadata": {},
     "outputs": [
      {
       "metadata": {},
       "output_type": "pyout",
       "prompt_number": 16,
       "text": [
        "<matplotlib.axes._subplots.AxesSubplot at 0xc3a4208>"
       ]
      },
      {
       "metadata": {},
       "output_type": "display_data",
       "png": "[encoded data removed]",
       "text": [
        "<matplotlib.figure.Figure at 0xc3a44e0>"
       ]
      }
     ],
     "prompt_number": 16
    },
    {
     "cell_type": "code",
     "collapsed": false,
     "input": [
      "# Gender distribution (1=male, 2=female, 3=other)\n",
      "# The number of male participants vs that of the female participants aren't too drastically different, which is great for the analysis.\n",
      "filteredDF.gender.value_counts().plot(kind = 'barh')"
     ],
     "language": "python",
     "metadata": {},
     "outputs": [
      {
       "metadata": {},
       "output_type": "pyout",
       "prompt_number": 17,
       "text": [
        "<matplotlib.axes._subplots.AxesSubplot at 0xc7d8198>"
       ]
      },
      {
       "metadata": {},
       "output_type": "display_data",
       "png": "[encoded data removed]",
       "text": [
        "<matplotlib.figure.Figure at 0xc3079b0>"
       ]
      }
     ],
     "prompt_number": 17
    },
    {
     "cell_type": "code",
     "collapsed": false,
     "input": [
      "# since the number of gender = other is insignificant, remove it from the df\n",
      "filteredDF = filteredDF[filteredDF['gender'] < 3]"
     ],
     "language": "python",
     "metadata": {},
     "outputs": [],
     "prompt_number": 18
    },
    {
     "cell_type": "code",
     "collapsed": false,
     "input": [
      "# sanity check, new distribution of gender\n",
      "filteredDF.gender.value_counts().plot(kind = 'barh')"
     ],
     "language": "python",
     "metadata": {},
     "outputs": [
      {
       "metadata": {},
       "output_type": "pyout",
       "prompt_number": 19,
       "text": [
        "<matplotlib.axes._subplots.AxesSubplot at 0xc5b0390>"
       ]
      },
      {
       "metadata": {},
       "output_type": "display_data",
       "png": "[encoded data removed]",
       "text": [
        "<matplotlib.figure.Figure at 0xc3aee10>"
       ]
      }
     ],
     "prompt_number": 19
    },
    {
     "cell_type": "code",
     "collapsed": false,
     "input": [
      "# Accuracy distribution\n",
      "# How accurate they thought their answers were on a scale from 0 to 100, \n",
      "# answers were entered as text and parsed to an integer. \n",
      "# They were instructed to enter a 0 if they did not want to be included in research.\n",
      "filteredDF.accuracy.hist(bins=50)"
     ],
     "language": "python",
     "metadata": {},
     "outputs": [
      {
       "metadata": {},
       "output_type": "pyout",
       "prompt_number": 20,
       "text": [
        "<matplotlib.axes._subplots.AxesSubplot at 0xca47b38>"
       ]
      },
      {
       "metadata": {},
       "output_type": "display_data",
       "png": "[encoded data removed]",
       "text": [
        "<matplotlib.figure.Figure at 0xca55eb8>"
       ]
      }
     ],
     "prompt_number": 20
    },
    {
     "cell_type": "code",
     "collapsed": false,
     "input": [
      "# replace gender category number to 1's and 0's\n",
      "def replaceGenderValues(data):\n",
      "    for index, row in data.iterrows():\n",
      "        if row['gender'] == 2:\n",
      "            data.loc[index, 'gender'] = int(\"0\")"
     ],
     "language": "python",
     "metadata": {},
     "outputs": [],
     "prompt_number": 21
    },
    {
     "cell_type": "code",
     "collapsed": false,
     "input": [
      "filteredDF.head()"
     ],
     "language": "python",
     "metadata": {},
     "outputs": [
      {
       "html": [
        "<div style=\"max-height:1000px;max-width:1500px;overflow:auto;\">\n",
        "<table border=\"1\" class=\"dataframe\">\n",
        "  <thead>\n",
        "    <tr style=\"text-align: right;\">\n",
        "      <th></th>\n",
        "      <th>Q1</th>\n",
        "      <th>Q2</th>\n",
        "      <th>Q3</th>\n",
        "      <th>Q4</th>\n",
        "      <th>Q5</th>\n",
        "      <th>Q6</th>\n",
        "      <th>Q7</th>\n",
        "      <th>Q8</th>\n",
        "      <th>Q9</th>\n",
        "      <th>Q10</th>\n",
        "      <th>...</th>\n",
        "      <th>Q30</th>\n",
        "      <th>Q31</th>\n",
        "      <th>Q32</th>\n",
        "      <th>affiliative</th>\n",
        "      <th>selfenhancing</th>\n",
        "      <th>agressive</th>\n",
        "      <th>selfdefeating</th>\n",
        "      <th>age</th>\n",
        "      <th>gender</th>\n",
        "      <th>accuracy</th>\n",
        "    </tr>\n",
        "  </thead>\n",
        "  <tbody>\n",
        "    <tr>\n",
        "      <th>0</th>\n",
        "      <td> 2</td>\n",
        "      <td> 2</td>\n",
        "      <td> 3</td>\n",
        "      <td> 1</td>\n",
        "      <td> 4</td>\n",
        "      <td> 5</td>\n",
        "      <td> 4</td>\n",
        "      <td> 3</td>\n",
        "      <td> 4</td>\n",
        "      <td> 3</td>\n",
        "      <td>...</td>\n",
        "      <td> 4</td>\n",
        "      <td> 2</td>\n",
        "      <td> 2</td>\n",
        "      <td> 4.0</td>\n",
        "      <td> 3.5</td>\n",
        "      <td> 3.0</td>\n",
        "      <td> 2.3</td>\n",
        "      <td> 25</td>\n",
        "      <td> 2</td>\n",
        "      <td> 100</td>\n",
        "    </tr>\n",
        "    <tr>\n",
        "      <th>1</th>\n",
        "      <td> 2</td>\n",
        "      <td> 3</td>\n",
        "      <td> 2</td>\n",
        "      <td> 2</td>\n",
        "      <td> 4</td>\n",
        "      <td> 4</td>\n",
        "      <td> 4</td>\n",
        "      <td> 3</td>\n",
        "      <td> 4</td>\n",
        "      <td> 3</td>\n",
        "      <td>...</td>\n",
        "      <td> 4</td>\n",
        "      <td> 3</td>\n",
        "      <td> 1</td>\n",
        "      <td> 3.3</td>\n",
        "      <td> 3.5</td>\n",
        "      <td> 3.3</td>\n",
        "      <td> 2.4</td>\n",
        "      <td> 44</td>\n",
        "      <td> 2</td>\n",
        "      <td>  90</td>\n",
        "    </tr>\n",
        "    <tr>\n",
        "      <th>2</th>\n",
        "      <td> 3</td>\n",
        "      <td> 4</td>\n",
        "      <td> 3</td>\n",
        "      <td> 3</td>\n",
        "      <td> 4</td>\n",
        "      <td> 4</td>\n",
        "      <td> 3</td>\n",
        "      <td> 1</td>\n",
        "      <td> 2</td>\n",
        "      <td> 4</td>\n",
        "      <td>...</td>\n",
        "      <td> 5</td>\n",
        "      <td> 4</td>\n",
        "      <td> 2</td>\n",
        "      <td> 3.9</td>\n",
        "      <td> 3.9</td>\n",
        "      <td> 3.1</td>\n",
        "      <td> 2.3</td>\n",
        "      <td> 50</td>\n",
        "      <td> 1</td>\n",
        "      <td>  75</td>\n",
        "    </tr>\n",
        "    <tr>\n",
        "      <th>4</th>\n",
        "      <td> 1</td>\n",
        "      <td> 4</td>\n",
        "      <td> 2</td>\n",
        "      <td> 2</td>\n",
        "      <td> 3</td>\n",
        "      <td> 5</td>\n",
        "      <td> 4</td>\n",
        "      <td> 1</td>\n",
        "      <td> 4</td>\n",
        "      <td> 4</td>\n",
        "      <td>...</td>\n",
        "      <td> 5</td>\n",
        "      <td> 4</td>\n",
        "      <td> 2</td>\n",
        "      <td> 4.1</td>\n",
        "      <td> 4.1</td>\n",
        "      <td> 2.9</td>\n",
        "      <td> 2.0</td>\n",
        "      <td> 52</td>\n",
        "      <td> 1</td>\n",
        "      <td>  80</td>\n",
        "    </tr>\n",
        "    <tr>\n",
        "      <th>5</th>\n",
        "      <td> 3</td>\n",
        "      <td> 3</td>\n",
        "      <td> 3</td>\n",
        "      <td> 2</td>\n",
        "      <td> 3</td>\n",
        "      <td> 3</td>\n",
        "      <td> 4</td>\n",
        "      <td> 2</td>\n",
        "      <td> 2</td>\n",
        "      <td> 1</td>\n",
        "      <td>...</td>\n",
        "      <td> 4</td>\n",
        "      <td> 3</td>\n",
        "      <td> 3</td>\n",
        "      <td> 3.6</td>\n",
        "      <td> 2.9</td>\n",
        "      <td> 3.4</td>\n",
        "      <td> 2.6</td>\n",
        "      <td> 30</td>\n",
        "      <td> 2</td>\n",
        "      <td>  60</td>\n",
        "    </tr>\n",
        "  </tbody>\n",
        "</table>\n",
        "<p>5 rows \u00d7 39 columns</p>\n",
        "</div>"
       ],
       "metadata": {},
       "output_type": "pyout",
       "prompt_number": 22,
       "text": [
        "   Q1  Q2  Q3  Q4  Q5  Q6  Q7  Q8  Q9  Q10 ...   Q30  Q31  Q32  affiliative  \\\n",
        "0   2   2   3   1   4   5   4   3   4    3 ...     4    2    2          4.0   \n",
        "1   2   3   2   2   4   4   4   3   4    3 ...     4    3    1          3.3   \n",
        "2   3   4   3   3   4   4   3   1   2    4 ...     5    4    2          3.9   \n",
        "4   1   4   2   2   3   5   4   1   4    4 ...     5    4    2          4.1   \n",
        "5   3   3   3   2   3   3   4   2   2    1 ...     4    3    3          3.6   \n",
        "\n",
        "   selfenhancing  agressive  selfdefeating  age  gender  accuracy  \n",
        "0            3.5        3.0            2.3   25       2       100  \n",
        "1            3.5        3.3            2.4   44       2        90  \n",
        "2            3.9        3.1            2.3   50       1        75  \n",
        "4            4.1        2.9            2.0   52       1        80  \n",
        "5            2.9        3.4            2.6   30       2        60  \n",
        "\n",
        "[5 rows x 39 columns]"
       ]
      }
     ],
     "prompt_number": 22
    },
    {
     "cell_type": "code",
     "collapsed": false,
     "input": [
      "replaceGenderValues(filteredDF)"
     ],
     "language": "python",
     "metadata": {},
     "outputs": [],
     "prompt_number": 23
    },
    {
     "cell_type": "code",
     "collapsed": false,
     "input": [
      "filteredDF.head()"
     ],
     "language": "python",
     "metadata": {},
     "outputs": [
      {
       "html": [
        "<div style=\"max-height:1000px;max-width:1500px;overflow:auto;\">\n",
        "<table border=\"1\" class=\"dataframe\">\n",
        "  <thead>\n",
        "    <tr style=\"text-align: right;\">\n",
        "      <th></th>\n",
        "      <th>Q1</th>\n",
        "      <th>Q2</th>\n",
        "      <th>Q3</th>\n",
        "      <th>Q4</th>\n",
        "      <th>Q5</th>\n",
        "      <th>Q6</th>\n",
        "      <th>Q7</th>\n",
        "      <th>Q8</th>\n",
        "      <th>Q9</th>\n",
        "      <th>Q10</th>\n",
        "      <th>...</th>\n",
        "      <th>Q30</th>\n",
        "      <th>Q31</th>\n",
        "      <th>Q32</th>\n",
        "      <th>affiliative</th>\n",
        "      <th>selfenhancing</th>\n",
        "      <th>agressive</th>\n",
        "      <th>selfdefeating</th>\n",
        "      <th>age</th>\n",
        "      <th>gender</th>\n",
        "      <th>accuracy</th>\n",
        "    </tr>\n",
        "  </thead>\n",
        "  <tbody>\n",
        "    <tr>\n",
        "      <th>0</th>\n",
        "      <td> 2</td>\n",
        "      <td> 2</td>\n",
        "      <td> 3</td>\n",
        "      <td> 1</td>\n",
        "      <td> 4</td>\n",
        "      <td> 5</td>\n",
        "      <td> 4</td>\n",
        "      <td> 3</td>\n",
        "      <td> 4</td>\n",
        "      <td> 3</td>\n",
        "      <td>...</td>\n",
        "      <td> 4</td>\n",
        "      <td> 2</td>\n",
        "      <td> 2</td>\n",
        "      <td> 4.0</td>\n",
        "      <td> 3.5</td>\n",
        "      <td> 3.0</td>\n",
        "      <td> 2.3</td>\n",
        "      <td> 25</td>\n",
        "      <td> 0</td>\n",
        "      <td> 100</td>\n",
        "    </tr>\n",
        "    <tr>\n",
        "      <th>1</th>\n",
        "      <td> 2</td>\n",
        "      <td> 3</td>\n",
        "      <td> 2</td>\n",
        "      <td> 2</td>\n",
        "      <td> 4</td>\n",
        "      <td> 4</td>\n",
        "      <td> 4</td>\n",
        "      <td> 3</td>\n",
        "      <td> 4</td>\n",
        "      <td> 3</td>\n",
        "      <td>...</td>\n",
        "      <td> 4</td>\n",
        "      <td> 3</td>\n",
        "      <td> 1</td>\n",
        "      <td> 3.3</td>\n",
        "      <td> 3.5</td>\n",
        "      <td> 3.3</td>\n",
        "      <td> 2.4</td>\n",
        "      <td> 44</td>\n",
        "      <td> 0</td>\n",
        "      <td>  90</td>\n",
        "    </tr>\n",
        "    <tr>\n",
        "      <th>2</th>\n",
        "      <td> 3</td>\n",
        "      <td> 4</td>\n",
        "      <td> 3</td>\n",
        "      <td> 3</td>\n",
        "      <td> 4</td>\n",
        "      <td> 4</td>\n",
        "      <td> 3</td>\n",
        "      <td> 1</td>\n",
        "      <td> 2</td>\n",
        "      <td> 4</td>\n",
        "      <td>...</td>\n",
        "      <td> 5</td>\n",
        "      <td> 4</td>\n",
        "      <td> 2</td>\n",
        "      <td> 3.9</td>\n",
        "      <td> 3.9</td>\n",
        "      <td> 3.1</td>\n",
        "      <td> 2.3</td>\n",
        "      <td> 50</td>\n",
        "      <td> 1</td>\n",
        "      <td>  75</td>\n",
        "    </tr>\n",
        "    <tr>\n",
        "      <th>4</th>\n",
        "      <td> 1</td>\n",
        "      <td> 4</td>\n",
        "      <td> 2</td>\n",
        "      <td> 2</td>\n",
        "      <td> 3</td>\n",
        "      <td> 5</td>\n",
        "      <td> 4</td>\n",
        "      <td> 1</td>\n",
        "      <td> 4</td>\n",
        "      <td> 4</td>\n",
        "      <td>...</td>\n",
        "      <td> 5</td>\n",
        "      <td> 4</td>\n",
        "      <td> 2</td>\n",
        "      <td> 4.1</td>\n",
        "      <td> 4.1</td>\n",
        "      <td> 2.9</td>\n",
        "      <td> 2.0</td>\n",
        "      <td> 52</td>\n",
        "      <td> 1</td>\n",
        "      <td>  80</td>\n",
        "    </tr>\n",
        "    <tr>\n",
        "      <th>5</th>\n",
        "      <td> 3</td>\n",
        "      <td> 3</td>\n",
        "      <td> 3</td>\n",
        "      <td> 2</td>\n",
        "      <td> 3</td>\n",
        "      <td> 3</td>\n",
        "      <td> 4</td>\n",
        "      <td> 2</td>\n",
        "      <td> 2</td>\n",
        "      <td> 1</td>\n",
        "      <td>...</td>\n",
        "      <td> 4</td>\n",
        "      <td> 3</td>\n",
        "      <td> 3</td>\n",
        "      <td> 3.6</td>\n",
        "      <td> 2.9</td>\n",
        "      <td> 3.4</td>\n",
        "      <td> 2.6</td>\n",
        "      <td> 30</td>\n",
        "      <td> 0</td>\n",
        "      <td>  60</td>\n",
        "    </tr>\n",
        "  </tbody>\n",
        "</table>\n",
        "<p>5 rows \u00d7 39 columns</p>\n",
        "</div>"
       ],
       "metadata": {},
       "output_type": "pyout",
       "prompt_number": 24,
       "text": [
        "   Q1  Q2  Q3  Q4  Q5  Q6  Q7  Q8  Q9  Q10 ...   Q30  Q31  Q32  affiliative  \\\n",
        "0   2   2   3   1   4   5   4   3   4    3 ...     4    2    2          4.0   \n",
        "1   2   3   2   2   4   4   4   3   4    3 ...     4    3    1          3.3   \n",
        "2   3   4   3   3   4   4   3   1   2    4 ...     5    4    2          3.9   \n",
        "4   1   4   2   2   3   5   4   1   4    4 ...     5    4    2          4.1   \n",
        "5   3   3   3   2   3   3   4   2   2    1 ...     4    3    3          3.6   \n",
        "\n",
        "   selfenhancing  agressive  selfdefeating  age  gender  accuracy  \n",
        "0            3.5        3.0            2.3   25       0       100  \n",
        "1            3.5        3.3            2.4   44       0        90  \n",
        "2            3.9        3.1            2.3   50       1        75  \n",
        "4            4.1        2.9            2.0   52       1        80  \n",
        "5            2.9        3.4            2.6   30       0        60  \n",
        "\n",
        "[5 rows x 39 columns]"
       ]
      }
     ],
     "prompt_number": 24
    },
    {
     "cell_type": "heading",
     "level": 3,
     "metadata": {},
     "source": [
      "Implement model using Random Forest Regressor"
     ]
    },
    {
     "cell_type": "code",
     "collapsed": false,
     "input": [
      "# After fine tuning, some of the columns below were commented out to get better ROC\n",
      "from sklearn.ensemble import RandomForestRegressor\n",
      "from sklearn.metrics import roc_auc_score\n",
      "\n",
      "X = pd.DataFrame()\n",
      "#X['Q1'] = filteredDF['Q1']\n",
      "#X['Q2'] = filteredDF['Q2']\n",
      "X['Q3'] = filteredDF['Q3']\n",
      "#X['Q4'] = filteredDF['Q4']\n",
      "#X['Q5'] = filteredDF['Q5']\n",
      "#X['Q6'] = filteredDF['Q6']\n",
      "X['Q7'] = filteredDF['Q7']\n",
      "#X['Q8'] = filteredDF['Q8']\n",
      "X['Q9'] = filteredDF['Q9']\n",
      "X['Q10'] = filteredDF['Q10']\n",
      "X['Q11'] = filteredDF['Q11']\n",
      "X['Q12'] = filteredDF['Q12']\n",
      "#X['Q13'] = filteredDF['Q13']\n",
      "#X['Q14'] = filteredDF['Q14']\n",
      "X['Q15'] = filteredDF['Q15']\n",
      "#X['Q16'] = filteredDF['Q16']\n",
      "X['Q17'] = filteredDF['Q17']\n",
      "#X['Q18'] = filteredDF['Q18']\n",
      "X['Q19'] = filteredDF['Q19']\n",
      "#X['Q20'] = filteredDF['Q20']\n",
      "#X['Q21'] = filteredDF['Q21']\n",
      "X['Q22'] = filteredDF['Q22']\n",
      "#X['Q23'] = filteredDF['Q23']\n",
      "X['Q24'] = filteredDF['Q24']\n",
      "#X['Q25'] = filteredDF['Q25']\n",
      "X['Q26'] = filteredDF['Q26']\n",
      "X['Q27'] = filteredDF['Q27']\n",
      "X['Q28'] = filteredDF['Q28']\n",
      "X['Q29'] = filteredDF['Q29']\n",
      "X['Q30'] = filteredDF['Q30']\n",
      "X['Q31'] = filteredDF['Q31']\n",
      "#X['Q32'] = filteredDF['Q32']\n",
      "#X['age'] = filteredDF['age']\n",
      "#X['affiliative'] = filteredDF['affiliative']\n",
      "#X['selfenhancing'] = filteredDF['selfenhancing']\n",
      "#X['agressive'] = filteredDF['agressive']\n",
      "#X['selfdefeating'] = filteredDF['selfdefeating']\n",
      "X['gender'] = filteredDF['gender']\n",
      "X['accuracy'] = filteredDF['accuracy']\n",
      "\n",
      "y = X.pop('gender')"
     ],
     "language": "python",
     "metadata": {},
     "outputs": [],
     "prompt_number": 25
    },
    {
     "cell_type": "code",
     "collapsed": false,
     "input": [
      "X.head()"
     ],
     "language": "python",
     "metadata": {},
     "outputs": [
      {
       "html": [
        "<div style=\"max-height:1000px;max-width:1500px;overflow:auto;\">\n",
        "<table border=\"1\" class=\"dataframe\">\n",
        "  <thead>\n",
        "    <tr style=\"text-align: right;\">\n",
        "      <th></th>\n",
        "      <th>Q3</th>\n",
        "      <th>Q7</th>\n",
        "      <th>Q9</th>\n",
        "      <th>Q10</th>\n",
        "      <th>Q11</th>\n",
        "      <th>Q12</th>\n",
        "      <th>Q15</th>\n",
        "      <th>Q17</th>\n",
        "      <th>Q19</th>\n",
        "      <th>Q22</th>\n",
        "      <th>Q24</th>\n",
        "      <th>Q26</th>\n",
        "      <th>Q27</th>\n",
        "      <th>Q28</th>\n",
        "      <th>Q29</th>\n",
        "      <th>Q30</th>\n",
        "      <th>Q31</th>\n",
        "      <th>accuracy</th>\n",
        "    </tr>\n",
        "  </thead>\n",
        "  <tbody>\n",
        "    <tr>\n",
        "      <th>0</th>\n",
        "      <td> 3</td>\n",
        "      <td> 4</td>\n",
        "      <td> 4</td>\n",
        "      <td> 3</td>\n",
        "      <td> 3</td>\n",
        "      <td> 1</td>\n",
        "      <td> 4</td>\n",
        "      <td> 2</td>\n",
        "      <td> 3</td>\n",
        "      <td> 4</td>\n",
        "      <td> 2</td>\n",
        "      <td> 3</td>\n",
        "      <td> 2</td>\n",
        "      <td> 4</td>\n",
        "      <td> 2</td>\n",
        "      <td> 4</td>\n",
        "      <td> 2</td>\n",
        "      <td> 100</td>\n",
        "    </tr>\n",
        "    <tr>\n",
        "      <th>1</th>\n",
        "      <td> 2</td>\n",
        "      <td> 4</td>\n",
        "      <td> 4</td>\n",
        "      <td> 3</td>\n",
        "      <td> 4</td>\n",
        "      <td> 3</td>\n",
        "      <td> 5</td>\n",
        "      <td> 2</td>\n",
        "      <td> 3</td>\n",
        "      <td> 3</td>\n",
        "      <td> 2</td>\n",
        "      <td> 5</td>\n",
        "      <td> 1</td>\n",
        "      <td> 2</td>\n",
        "      <td> 4</td>\n",
        "      <td> 4</td>\n",
        "      <td> 3</td>\n",
        "      <td>  90</td>\n",
        "    </tr>\n",
        "    <tr>\n",
        "      <th>2</th>\n",
        "      <td> 3</td>\n",
        "      <td> 3</td>\n",
        "      <td> 2</td>\n",
        "      <td> 4</td>\n",
        "      <td> 3</td>\n",
        "      <td> 2</td>\n",
        "      <td> 3</td>\n",
        "      <td> 2</td>\n",
        "      <td> 2</td>\n",
        "      <td> 2</td>\n",
        "      <td> 3</td>\n",
        "      <td> 4</td>\n",
        "      <td> 3</td>\n",
        "      <td> 3</td>\n",
        "      <td> 2</td>\n",
        "      <td> 5</td>\n",
        "      <td> 4</td>\n",
        "      <td>  75</td>\n",
        "    </tr>\n",
        "    <tr>\n",
        "      <th>4</th>\n",
        "      <td> 2</td>\n",
        "      <td> 4</td>\n",
        "      <td> 4</td>\n",
        "      <td> 4</td>\n",
        "      <td> 2</td>\n",
        "      <td> 2</td>\n",
        "      <td> 4</td>\n",
        "      <td> 2</td>\n",
        "      <td> 2</td>\n",
        "      <td> 3</td>\n",
        "      <td> 1</td>\n",
        "      <td> 5</td>\n",
        "      <td> 2</td>\n",
        "      <td> 3</td>\n",
        "      <td> 2</td>\n",
        "      <td> 5</td>\n",
        "      <td> 4</td>\n",
        "      <td>  80</td>\n",
        "    </tr>\n",
        "    <tr>\n",
        "      <th>5</th>\n",
        "      <td> 3</td>\n",
        "      <td> 4</td>\n",
        "      <td> 2</td>\n",
        "      <td> 1</td>\n",
        "      <td> 3</td>\n",
        "      <td> 3</td>\n",
        "      <td> 4</td>\n",
        "      <td> 2</td>\n",
        "      <td> 4</td>\n",
        "      <td> 4</td>\n",
        "      <td> 2</td>\n",
        "      <td> 3</td>\n",
        "      <td> 2</td>\n",
        "      <td> 4</td>\n",
        "      <td> 3</td>\n",
        "      <td> 4</td>\n",
        "      <td> 3</td>\n",
        "      <td>  60</td>\n",
        "    </tr>\n",
        "  </tbody>\n",
        "</table>\n",
        "</div>"
       ],
       "metadata": {},
       "output_type": "pyout",
       "prompt_number": 26,
       "text": [
        "   Q3  Q7  Q9  Q10  Q11  Q12  Q15  Q17  Q19  Q22  Q24  Q26  Q27  Q28  Q29  \\\n",
        "0   3   4   4    3    3    1    4    2    3    4    2    3    2    4    2   \n",
        "1   2   4   4    3    4    3    5    2    3    3    2    5    1    2    4   \n",
        "2   3   3   2    4    3    2    3    2    2    2    3    4    3    3    2   \n",
        "4   2   4   4    4    2    2    4    2    2    3    1    5    2    3    2   \n",
        "5   3   4   2    1    3    3    4    2    4    4    2    3    2    4    3   \n",
        "\n",
        "   Q30  Q31  accuracy  \n",
        "0    4    2       100  \n",
        "1    4    3        90  \n",
        "2    5    4        75  \n",
        "4    5    4        80  \n",
        "5    4    3        60  "
       ]
      }
     ],
     "prompt_number": 26
    },
    {
     "cell_type": "code",
     "collapsed": false,
     "input": [
      "y.head()"
     ],
     "language": "python",
     "metadata": {},
     "outputs": [
      {
       "metadata": {},
       "output_type": "pyout",
       "prompt_number": 27,
       "text": [
        "0    0\n",
        "1    0\n",
        "2    1\n",
        "4    1\n",
        "5    0\n",
        "Name: gender, dtype: int64"
       ]
      }
     ],
     "prompt_number": 27
    },
    {
     "cell_type": "code",
     "collapsed": false,
     "input": [
      "model = RandomForestRegressor(n_estimators=100, oob_score=True, random_state=42)"
     ],
     "language": "python",
     "metadata": {},
     "outputs": [],
     "prompt_number": 28
    },
    {
     "cell_type": "code",
     "collapsed": false,
     "input": [
      "model.fit(X, y)"
     ],
     "language": "python",
     "metadata": {},
     "outputs": [
      {
       "metadata": {},
       "output_type": "pyout",
       "prompt_number": 29,
       "text": [
        "RandomForestRegressor(bootstrap=True, compute_importances=None,\n",
        "           criterion='mse', max_depth=None, max_features='auto',\n",
        "           max_leaf_nodes=None, min_density=None, min_samples_leaf=1,\n",
        "           min_samples_split=2, n_estimators=100, n_jobs=1, oob_score=True,\n",
        "           random_state=42, verbose=0)"
       ]
      }
     ],
     "prompt_number": 29
    },
    {
     "cell_type": "code",
     "collapsed": false,
     "input": [
      "y_oob = model.oob_prediction_\n",
      "print \"c-stat: \", roc_auc_score(y, y_oob)"
     ],
     "language": "python",
     "metadata": {},
     "outputs": [
      {
       "output_type": "stream",
       "stream": "stdout",
       "text": [
        "c-stat:  0.655406605489\n"
       ]
      }
     ],
     "prompt_number": 30
    },
    {
     "cell_type": "code",
     "collapsed": false,
     "input": [
      "model.feature_importances_"
     ],
     "language": "python",
     "metadata": {},
     "outputs": [
      {
       "metadata": {},
       "output_type": "pyout",
       "prompt_number": 31,
       "text": [
        "array([ 0.049828  ,  0.05001759,  0.05680957,  0.05075763,  0.05738511,\n",
        "        0.05748377,  0.07734066,  0.04564748,  0.05709444,  0.05782094,\n",
        "        0.0480427 ,  0.05289339,  0.05127981,  0.05733536,  0.05335747,\n",
        "        0.04256211,  0.04371988,  0.0906241 ])"
       ]
      }
     ],
     "prompt_number": 31
    },
    {
     "cell_type": "code",
     "collapsed": false,
     "input": [
      "%%timeit\n",
      "model = RandomForestRegressor(1000, oob_score=True, n_jobs=1, random_state=42)\n",
      "model.fit(X, y)"
     ],
     "language": "python",
     "metadata": {},
     "outputs": [
      {
       "output_type": "stream",
       "stream": "stdout",
       "text": [
        "1 loops, best of 3: 6.52 s per loop\n"
       ]
      }
     ],
     "prompt_number": 32
    },
    {
     "cell_type": "code",
     "collapsed": false,
     "input": [
      "%%timeit\n",
      "model = RandomForestRegressor(1000, oob_score=True, n_jobs=-1, random_state=42)\n",
      "model.fit(X, y)"
     ],
     "language": "python",
     "metadata": {},
     "outputs": [
      {
       "output_type": "stream",
       "stream": "stdout",
       "text": [
        "1 loops, best of 3: 2.58 s per loop\n"
       ]
      }
     ],
     "prompt_number": 33
    },
    {
     "cell_type": "code",
     "collapsed": false,
     "input": [
      "results = []\n",
      "n_estimator_options = [30, 50, 100, 200, 500, 1000, 2000]\n",
      "\n",
      "for trees in n_estimator_options:\n",
      "    model = RandomForestRegressor(trees, oob_score=True, n_jobs=-1, random_state=42)\n",
      "    model.fit(X, y)\n",
      "    print trees, \"trees\"\n",
      "    roc = roc_auc_score(y, model.oob_prediction_)\n",
      "    print \"C-stat: \", roc\n",
      "    results.append(roc)\n",
      "    print \"\"\n",
      "    \n",
      "pd.Series(results, n_estimator_options).plot();"
     ],
     "language": "python",
     "metadata": {},
     "outputs": [
      {
       "output_type": "stream",
       "stream": "stdout",
       "text": [
        "30 trees\n",
        "C-stat:  0.622878166364\n",
        "\n",
        "50"
       ]
      },
      {
       "output_type": "stream",
       "stream": "stdout",
       "text": [
        " trees\n",
        "C-stat:  0.636698101239\n",
        "\n",
        "100"
       ]
      },
      {
       "output_type": "stream",
       "stream": "stdout",
       "text": [
        " trees\n",
        "C-stat:  0.655406605489\n",
        "\n",
        "200"
       ]
      },
      {
       "output_type": "stream",
       "stream": "stdout",
       "text": [
        " trees\n",
        "C-stat:  0.651609083605\n",
        "\n",
        "500"
       ]
      },
      {
       "output_type": "stream",
       "stream": "stdout",
       "text": [
        " trees\n",
        "C-stat:  0.651826870216\n",
        "\n",
        "1000"
       ]
      },
      {
       "output_type": "stream",
       "stream": "stdout",
       "text": [
        " trees\n",
        "C-stat:  0.654943544636\n",
        "\n",
        "2000"
       ]
      },
      {
       "output_type": "stream",
       "stream": "stdout",
       "text": [
        " trees\n",
        "C-stat:  0.655911955005\n",
        "\n"
       ]
      },
      {
       "metadata": {},
       "output_type": "display_data",
       "png": "[encoded data removed]",
       "text": [
        "<matplotlib.figure.Figure at 0xda99cf8>"
       ]
      }
     ],
     "prompt_number": 34
    },
    {
     "cell_type": "code",
     "collapsed": false,
     "input": [
      "results = []\n",
      "max_features_options = [\"auto\", None, \"sqrt\", \"log2\", 0.9, 0.2]\n",
      "\n",
      "for max_features in max_features_options:\n",
      "    model = RandomForestRegressor(n_estimators=2000, oob_score=True, n_jobs=-1, random_state=42, max_features=max_features)\n",
      "    model.fit(X, y)\n",
      "    print max_features, \"option\"\n",
      "    roc = roc_auc_score(y, model.oob_prediction_)\n",
      "    print \"C-stat: \", roc\n",
      "    results.append(roc)\n",
      "    print \"\"\n",
      "    \n",
      "pd.Series(results, max_features_options).plot(kind=\"barh\", xlim=(.650,.660));"
     ],
     "language": "python",
     "metadata": {},
     "outputs": [
      {
       "output_type": "stream",
       "stream": "stdout",
       "text": [
        "auto option\n",
        "C-stat:  0.655911955005\n",
        "\n",
        "None"
       ]
      },
      {
       "output_type": "stream",
       "stream": "stdout",
       "text": [
        " option\n",
        "C-stat:  0.655911955005\n",
        "\n",
        "sqrt"
       ]
      },
      {
       "output_type": "stream",
       "stream": "stdout",
       "text": [
        " option\n",
        "C-stat:  0.65576605912\n",
        "\n",
        "log2"
       ]
      },
      {
       "output_type": "stream",
       "stream": "stdout",
       "text": [
        " option\n",
        "C-stat:  0.65576605912\n",
        "\n",
        "0.9"
       ]
      },
      {
       "output_type": "stream",
       "stream": "stdout",
       "text": [
        " option\n",
        "C-stat:  0.654759588954\n",
        "\n",
        "0.2"
       ]
      },
      {
       "output_type": "stream",
       "stream": "stdout",
       "text": [
        " option\n",
        "C-stat:  0.651393411426\n",
        "\n"
       ]
      },
      {
       "metadata": {},
       "output_type": "display_data",
       "png": "[encoded data removed]",
       "text": [
        "<matplotlib.figure.Figure at 0x1b69d860>"
       ]
      }
     ],
     "prompt_number": 35
    },
    {
     "cell_type": "code",
     "collapsed": false,
     "input": [
      "results = []\n",
      "min_samples_leaf_options = [1, 2, 3, 4, 5, 6, 7, 8, 9, 10]\n",
      "\n",
      "for min_samples in min_samples_leaf_options:\n",
      "    model = RandomForestRegressor(n_estimators=1000, \n",
      "                                  oob_score=True, \n",
      "                                  n_jobs=-1, \n",
      "                                  random_state=42, \n",
      "                                  max_features=\"auto\", \n",
      "                                  min_samples_leaf=min_samples)\n",
      "    model.fit(X, y)\n",
      "    print min_samples, \"min samples\"\n",
      "    roc = roc_auc_score(y, model.oob_prediction_)\n",
      "    print \"C-stat: \", roc\n",
      "    results.append(roc)\n",
      "    print \"\"\n",
      "    \n",
      "pd.Series(results, min_samples_leaf_options).plot();"
     ],
     "language": "python",
     "metadata": {},
     "outputs": [
      {
       "output_type": "stream",
       "stream": "stdout",
       "text": [
        "1 min samples\n",
        "C-stat:  0.654943544636\n",
        "\n",
        "2"
       ]
      },
      {
       "output_type": "stream",
       "stream": "stdout",
       "text": [
        " min samples\n",
        "C-stat:  0.654080855923\n",
        "\n",
        "3"
       ]
      },
      {
       "output_type": "stream",
       "stream": "stdout",
       "text": [
        " min samples\n",
        "C-stat:  0.653317545566\n",
        "\n",
        "4"
       ]
      },
      {
       "output_type": "stream",
       "stream": "stdout",
       "text": [
        " min samples\n",
        "C-stat:  0.650936693872\n",
        "\n",
        "5"
       ]
      },
      {
       "output_type": "stream",
       "stream": "stdout",
       "text": [
        " min samples\n",
        "C-stat:  0.651131221719\n",
        "\n",
        "6"
       ]
      },
      {
       "output_type": "stream",
       "stream": "stdout",
       "text": [
        " min samples\n",
        "C-stat:  0.65169366093\n",
        "\n",
        "7"
       ]
      },
      {
       "output_type": "stream",
       "stream": "stdout",
       "text": [
        " min samples\n",
        "C-stat:  0.651782467121\n",
        "\n",
        "8"
       ]
      },
      {
       "output_type": "stream",
       "stream": "stdout",
       "text": [
        " min samples\n",
        "C-stat:  0.651964308369\n",
        "\n",
        "9"
       ]
      },
      {
       "output_type": "stream",
       "stream": "stdout",
       "text": [
        " min samples\n",
        "C-stat:  0.652129234152\n",
        "\n",
        "10"
       ]
      },
      {
       "output_type": "stream",
       "stream": "stdout",
       "text": [
        " min samples\n",
        "C-stat:  0.650441916522\n",
        "\n"
       ]
      },
      {
       "metadata": {},
       "output_type": "display_data",
       "png": "[encoded data removed]",
       "text": [
        "<matplotlib.figure.Figure at 0xdd3f208>"
       ]
      }
     ],
     "prompt_number": 36
    },
    {
     "cell_type": "code",
     "collapsed": false,
     "input": [
      "model = RandomForestRegressor(n_estimators=2000, \n",
      "                              oob_score=True, \n",
      "                              n_jobs=-1, \n",
      "                              random_state=42, \n",
      "                              max_features=\"auto\", \n",
      "                              min_samples_leaf=1)\n",
      "model.fit(X, y)\n",
      "roc = roc_auc_score(y, model.oob_prediction_)\n",
      "print \"C-stat: \", roc\n",
      "from sklearn.metrics import roc_curve\n",
      "fpr, tpr, thresholds = roc_curve(y, model.oob_prediction_)"
     ],
     "language": "python",
     "metadata": {},
     "outputs": [
      {
       "output_type": "stream",
       "stream": "stdout",
       "text": [
        "C-stat:  0.655911955005\n"
       ]
      }
     ],
     "prompt_number": 37
    },
    {
     "cell_type": "code",
     "collapsed": false,
     "input": [
      "plt.figure()\n",
      "plt.plot(fpr, tpr, label='ROC curve (area = %0.2f)' % roc)\n",
      "plt.plot([0, 1], [0, 1], 'k--')\n",
      "plt.xlim([0, 1])\n",
      "plt.ylim([0, 1.0 ])\n",
      "plt.xlabel('False Positive Rate')\n",
      "plt.ylabel('True Positive Rate')\n",
      "plt.title('Receiver operating characteristic example')\n",
      "plt.legend(loc=\"lower right\")\n",
      "plt.show()"
     ],
     "language": "python",
     "metadata": {},
     "outputs": [
      {
       "metadata": {},
       "output_type": "display_data",
       "png": "[encoded data removed]",
       "text": [
        "<matplotlib.figure.Figure at 0x17a55c50>"
       ]
      }
     ],
     "prompt_number": 38
    },
    {
     "cell_type": "code",
     "collapsed": false,
     "input": [
      "model.predict(X)"
     ],
     "language": "python",
     "metadata": {},
     "outputs": [
      {
       "metadata": {},
       "output_type": "pyout",
       "prompt_number": 39,
       "text": [
        "array([ 0.2055,  0.1505,  0.896 ,  0.796 ,  0.226 ,  0.8385,  0.891 ,\n",
        "        0.248 ,  0.784 ,  0.7855,  0.887 ,  0.844 ,  0.792 ,  0.7875,\n",
        "        0.253 ,  0.15  ,  0.865 ,  0.9395,  0.6815,  0.129 ,  0.064 ,\n",
        "        0.151 ,  0.203 ,  0.833 ,  0.116 ,  0.1535,  0.059 ,  0.832 ,\n",
        "        0.8415,  0.1925,  0.922 ,  0.2635,  0.7955,  0.285 ,  0.822 ,\n",
        "        0.815 ,  0.8795,  0.848 ,  0.771 ,  0.886 ,  0.2145,  0.778 ,\n",
        "        0.2505,  0.175 ,  0.8185,  0.824 ,  0.9095,  0.906 ,  0.1665,\n",
        "        0.774 ,  0.2405,  0.857 ,  0.7775,  0.805 ,  0.261 ,  0.917 ,\n",
        "        0.231 ,  0.141 ,  0.868 ,  0.1675,  0.2455,  0.813 ,  0.8455,\n",
        "        0.182 ,  0.783 ,  0.8815,  0.8795,  0.7875,  0.913 ,  0.124 ,\n",
        "        0.9135,  0.8725,  0.164 ,  0.1295,  0.7925,  0.8905,  0.132 ,\n",
        "        0.8825,  0.7975,  0.8445,  0.1625,  0.2255,  0.0385,  0.822 ,\n",
        "        0.1235,  0.8265,  0.801 ,  0.8805,  0.875 ,  0.834 ,  0.179 ,\n",
        "        0.248 ,  0.8995,  0.105 ,  0.957 ,  0.7475,  0.7845,  0.17  ,\n",
        "        0.847 ,  0.1695,  0.889 ,  0.8405,  0.165 ,  0.1755,  0.189 ,\n",
        "        0.88  ,  0.7655,  0.8155,  0.772 ,  0.739 ,  0.1635,  0.148 ,\n",
        "        0.856 ,  0.188 ,  0.1715,  0.1465,  0.199 ,  0.7955,  0.2895,\n",
        "        0.876 ,  0.837 ,  0.1985,  0.818 ,  0.9215,  0.9455,  0.959 ,\n",
        "        0.7855,  0.942 ,  0.841 ,  0.8915,  0.154 ,  0.9095,  0.25  ,\n",
        "        0.859 ,  0.847 ,  0.8525,  0.7845,  0.825 ,  0.1925,  0.967 ,\n",
        "        0.869 ,  0.1025,  0.168 ,  0.833 ,  0.1875,  0.885 ,  0.7445,\n",
        "        0.21  ,  0.162 ,  0.2625,  0.8375,  0.163 ,  0.2135,  0.872 ,\n",
        "        0.922 ,  0.797 ,  0.7445,  0.102 ,  0.1795,  0.7695,  0.2265,\n",
        "        0.819 ,  0.7825,  0.195 ,  0.876 ,  0.831 ,  0.1465,  0.327 ,\n",
        "        0.7865,  0.267 ,  0.285 ,  0.1415,  0.0855,  0.8265,  0.9295,\n",
        "        0.212 ,  0.8905,  0.798 ,  0.9045,  0.186 ,  0.1335,  0.8065,\n",
        "        0.1765,  0.088 ,  0.912 ,  0.8875,  0.937 ,  0.8415,  0.1725,\n",
        "        0.0735,  0.8535,  0.179 ,  0.1865,  0.224 ,  0.833 ,  0.8695,\n",
        "        0.742 ,  0.794 ,  0.128 ,  0.1545,  0.113 ,  0.7875,  0.93  ,\n",
        "        0.942 ,  0.838 ,  0.2445,  0.202 ,  0.8885,  0.208 ,  0.181 ,\n",
        "        0.889 ,  0.921 ,  0.905 ,  0.7805,  0.243 ,  0.1775,  0.7045,\n",
        "        0.7785,  0.765 ,  0.9155,  0.7625,  0.1595,  0.119 ,  0.865 ,\n",
        "        0.933 ,  0.8075,  0.068 ,  0.8225,  0.1115,  0.9405,  0.176 ,\n",
        "        0.899 ,  0.8675,  0.7865,  0.1835,  0.855 ,  0.1395,  0.837 ,\n",
        "        0.1975,  0.8065,  0.1855,  0.845 ,  0.147 ,  0.1565,  0.134 ,\n",
        "        0.923 ,  0.0455,  0.797 ,  0.8395,  0.8455,  0.891 ,  0.1115,\n",
        "        0.897 ,  0.793 ,  0.1705,  0.8745,  0.162 ,  0.1635,  0.131 ,\n",
        "        0.8515,  0.796 ,  0.78  ,  0.854 ,  0.881 ,  0.24  ,  0.7405,\n",
        "        0.8545,  0.942 ,  0.8745,  0.8125,  0.237 ,  0.8855,  0.1975,\n",
        "        0.879 ,  0.1855,  0.127 ,  0.8045,  0.9205,  0.9135,  0.8945,\n",
        "        0.879 ,  0.9205,  0.8605,  0.2245,  0.0915,  0.2225,  0.84  ,\n",
        "        0.1585,  0.819 ,  0.8795,  0.2425,  0.868 ,  0.1865,  0.184 ,\n",
        "        0.323 ,  0.1845,  0.1765,  0.1595,  0.21  ,  0.146 ,  0.2215,\n",
        "        0.242 ,  0.887 ,  0.2715,  0.167 ,  0.8735,  0.1805,  0.1475,\n",
        "        0.881 ,  0.2065,  0.785 ,  0.2465,  0.2475,  0.0965,  0.1905,\n",
        "        0.134 ,  0.9195,  0.838 ,  0.7825,  0.075 ,  0.0685,  0.796 ,\n",
        "        0.153 ,  0.136 ,  0.777 ,  0.219 ,  0.212 ,  0.0635,  0.2265,\n",
        "        0.23  ,  0.8295,  0.9275,  0.8015,  0.143 ,  0.1605,  0.9215,\n",
        "        0.805 ,  0.7745,  0.8935,  0.1045,  0.16  ,  0.875 ,  0.187 ,\n",
        "        0.7665,  0.9055,  0.891 ,  0.768 ,  0.846 ,  0.7785,  0.2495,\n",
        "        0.923 ,  0.7155,  0.877 ,  0.926 ,  0.751 ,  0.87  ,  0.817 ,\n",
        "        0.762 ,  0.132 ,  0.8525,  0.8885,  0.7765,  0.177 ,  0.793 ,\n",
        "        0.222 ,  0.903 ,  0.177 ,  0.8105,  0.2515,  0.854 ,  0.7715,\n",
        "        0.226 ,  0.876 ,  0.9435,  0.2055,  0.876 ,  0.792 ,  0.1975,\n",
        "        0.168 ,  0.092 ,  0.854 ,  0.0545,  0.173 ,  0.837 ,  0.1705,\n",
        "        0.8245,  0.8045,  0.849 ,  0.1975,  0.799 ,  0.8995,  0.9405,\n",
        "        0.7685,  0.765 ,  0.2455,  0.253 ,  0.874 ,  0.8565,  0.849 ,\n",
        "        0.7825,  0.7515,  0.831 ,  0.935 ,  0.7755,  0.811 ,  0.1645,\n",
        "        0.294 ,  0.8355,  0.175 ,  0.8605,  0.7215,  0.256 ,  0.2065,\n",
        "        0.2625,  0.876 ,  0.83  ,  0.7635,  0.936 ,  0.1565,  0.1575,\n",
        "        0.1145,  0.174 ,  0.17  ,  0.848 ,  0.2385,  0.189 ,  0.7695,\n",
        "        0.2915,  0.158 ,  0.788 ,  0.1505,  0.8485,  0.766 ,  0.3125,\n",
        "        0.292 ,  0.1545,  0.8655,  0.2015,  0.1965,  0.228 ,  0.8715,\n",
        "        0.8715,  0.1465,  0.808 ,  0.9485,  0.869 ,  0.8115,  0.954 ,\n",
        "        0.885 ,  0.8755,  0.8415,  0.1035,  0.2795,  0.104 ,  0.2575,\n",
        "        0.8105,  0.2125,  0.1245,  0.8235,  0.833 ,  0.1095,  0.12  ,\n",
        "        0.82  ,  0.263 ,  0.1725,  0.8825,  0.1855,  0.13  ,  0.179 ,\n",
        "        0.8115,  0.883 ,  0.1895,  0.8965,  0.768 ,  0.835 ,  0.8225,\n",
        "        0.158 ,  0.212 ,  0.8105,  0.838 ,  0.1665,  0.109 ,  0.15  ,\n",
        "        0.8275,  0.2195,  0.796 ,  0.858 ,  0.9035,  0.226 ,  0.856 ,\n",
        "        0.816 ,  0.6925,  0.196 ,  0.782 ,  0.1765,  0.935 ,  0.1425,\n",
        "        0.8015,  0.888 ,  0.3005,  0.2365,  0.1845,  0.1215,  0.242 ,\n",
        "        0.783 ,  0.2275,  0.8075,  0.107 ,  0.8095,  0.2685,  0.0715,\n",
        "        0.187 ,  0.888 ,  0.8485,  0.959 ,  0.8395,  0.8675,  0.209 ,\n",
        "        0.918 ,  0.89  ,  0.812 ,  0.8405,  0.8765,  0.904 ,  0.156 ,\n",
        "        0.8905,  0.1565,  0.265 ,  0.169 ,  0.3125,  0.2625,  0.809 ,\n",
        "        0.179 ,  0.829 ,  0.9395,  0.807 ,  0.8095,  0.7715,  0.1925,\n",
        "        0.8085,  0.774 ,  0.169 ,  0.214 ,  0.7465,  0.1395,  0.864 ,\n",
        "        0.8835,  0.709 ,  0.8835,  0.2245,  0.1465,  0.8015,  0.132 ,\n",
        "        0.828 ,  0.258 ,  0.8555,  0.925 ,  0.198 ,  0.921 ,  0.1375,\n",
        "        0.253 ,  0.9385,  0.1845,  0.227 ,  0.8955,  0.796 ,  0.7995,\n",
        "        0.8205,  0.199 ,  0.898 ,  0.837 ,  0.855 ,  0.7785,  0.8805,\n",
        "        0.1555,  0.822 ,  0.1015,  0.146 ,  0.865 ,  0.806 ,  0.8035,\n",
        "        0.1745,  0.164 ,  0.1385,  0.8895,  0.1455,  0.0775,  0.764 ,\n",
        "        0.9565,  0.1655,  0.261 ,  0.156 ,  0.1975,  0.164 ,  0.86  ,\n",
        "        0.244 ,  0.788 ,  0.8475,  0.8795,  0.1865,  0.809 ,  0.208 ,\n",
        "        0.7725,  0.8175,  0.809 ,  0.197 ,  0.161 ,  0.205 ,  0.7555,\n",
        "        0.781 ,  0.804 ,  0.8175,  0.871 ,  0.1155,  0.865 ,  0.796 ,\n",
        "        0.22  ,  0.2915,  0.911 ,  0.16  ,  0.9265,  0.8965,  0.8955,\n",
        "        0.307 ,  0.855 ,  0.1295,  0.838 ,  0.1825,  0.136 ,  0.1245,\n",
        "        0.1125,  0.8275,  0.2405,  0.9075,  0.878 ,  0.216 ,  0.216 ,\n",
        "        0.7845,  0.236 ,  0.825 ,  0.119 ,  0.87  ,  0.2265,  0.802 ,\n",
        "        0.8055,  0.8415,  0.829 ,  0.845 ,  0.8705,  0.0845,  0.212 ,\n",
        "        0.826 ,  0.7595,  0.2845,  0.182 ,  0.7805,  0.835 ,  0.157 ,\n",
        "        0.888 ,  0.2275,  0.865 ,  0.2865,  0.8845,  0.1635,  0.892 ,\n",
        "        0.875 ,  0.7575,  0.881 ,  0.777 ,  0.8505,  0.8065,  0.85  ,\n",
        "        0.8615,  0.0345,  0.205 ,  0.152 ,  0.2405,  0.8235,  0.974 ,\n",
        "        0.1265,  0.0935,  0.82  ,  0.7875,  0.1825,  0.1345,  0.202 ,\n",
        "        0.954 ,  0.118 ,  0.9455,  0.856 ,  0.8475,  0.8875,  0.0805,\n",
        "        0.2325,  0.8335,  0.922 ,  0.833 ,  0.2475,  0.204 ,  0.8735,\n",
        "        0.7595,  0.1995,  0.871 ,  0.194 ,  0.2745,  0.8465,  0.9355,\n",
        "        0.2675,  0.8435,  0.1915,  0.915 ,  0.1125,  0.81  ,  0.1095,\n",
        "        0.851 ,  0.2285,  0.8935,  0.217 ,  0.886 ,  0.7685,  0.1695,\n",
        "        0.878 ,  0.925 ,  0.8205,  0.762 ,  0.832 ,  0.1315,  0.821 ,\n",
        "        0.8405,  0.949 ,  0.1675,  0.8985,  0.863 ,  0.9295,  0.812 ,\n",
        "        0.819 ,  0.901 ,  0.23  ,  0.2285,  0.91  ,  0.3385,  0.846 ,\n",
        "        0.818 ,  0.213 ,  0.1585,  0.903 ,  0.214 ,  0.9415,  0.151 ,\n",
        "        0.156 ,  0.2095,  0.2525,  0.179 ,  0.935 ,  0.1535,  0.826 ,\n",
        "        0.1825,  0.1535,  0.7255,  0.2095,  0.198 ,  0.0675,  0.879 ,\n",
        "        0.7985,  0.823 ,  0.304 ,  0.1585,  0.837 ,  0.1175,  0.8205,\n",
        "        0.877 ,  0.09  ,  0.895 ,  0.134 ,  0.1495,  0.1335,  0.212 ,\n",
        "        0.8795,  0.18  ,  0.124 ,  0.1215,  0.2115,  0.707 ,  0.1765,\n",
        "        0.1505,  0.91  ,  0.18  ,  0.8945,  0.824 ,  0.898 ,  0.1085,\n",
        "        0.814 ,  0.919 ,  0.863 ,  0.2325,  0.1745,  0.1995,  0.8445,\n",
        "        0.8665,  0.221 ,  0.8245,  0.83  ,  0.1535,  0.8235,  0.801 ,\n",
        "        0.9205,  0.88  ,  0.142 ,  0.134 ,  0.1795,  0.824 ,  0.809 ,\n",
        "        0.7995,  0.2415,  0.8945,  0.767 ,  0.7365,  0.837 ,  0.9185,\n",
        "        0.7565,  0.2055,  0.8415,  0.252 ,  0.844 ,  0.9045,  0.901 ,\n",
        "        0.808 ,  0.11  ,  0.747 ,  0.855 ,  0.8895,  0.227 ,  0.0945,\n",
        "        0.1335,  0.2205,  0.814 ,  0.1655,  0.226 ,  0.087 ,  0.1625,\n",
        "        0.9495,  0.8745,  0.1915,  0.041 ,  0.895 ,  0.7825,  0.883 ,\n",
        "        0.1385,  0.211 ,  0.141 ,  0.136 ,  0.236 ,  0.1515,  0.087 ,\n",
        "        0.783 ,  0.1175,  0.0845,  0.257 ,  0.2185,  0.8345,  0.8365,\n",
        "        0.1105,  0.9325,  0.0895,  0.0885,  0.665 ,  0.935 ,  0.7945,\n",
        "        0.1655,  0.102 ,  0.1765,  0.788 ,  0.1645,  0.743 ,  0.868 ,\n",
        "        0.814 ,  0.909 ,  0.774 ,  0.0565,  0.306 ,  0.151 ,  0.911 ,\n",
        "        0.153 ,  0.853 ,  0.8105,  0.867 ,  0.177 ,  0.2445,  0.205 ,\n",
        "        0.215 ,  0.295 ,  0.2555,  0.155 ,  0.128 ,  0.818 ,  0.1585,\n",
        "        0.865 ,  0.717 ,  0.138 ,  0.2855,  0.2255,  0.219 ,  0.9   ,\n",
        "        0.8265,  0.806 ,  0.792 ,  0.2135,  0.793 ,  0.2885,  0.807 ,\n",
        "        0.9105,  0.171 ,  0.887 ,  0.2515,  0.177 ,  0.863 ,  0.912 ,\n",
        "        0.198 ,  0.1695,  0.28  ,  0.827 ,  0.2785,  0.8975,  0.245 ,\n",
        "        0.193 ,  0.2205,  0.897 ,  0.194 ,  0.849 ,  0.86  ,  0.1275,\n",
        "        0.8555,  0.79  ,  0.839 ,  0.099 ,  0.857 ,  0.1635,  0.251 ,\n",
        "        0.7995,  0.1245,  0.2575,  0.804 ,  0.777 ,  0.8905,  0.8745,\n",
        "        0.191 ,  0.817 ,  0.1695,  0.8755,  0.909 ,  0.116 ,  0.873 ,\n",
        "        0.1665,  0.84  ,  0.295 ,  0.828 ,  0.821 ,  0.228 ,  0.174 ,\n",
        "        0.897 ,  0.1225,  0.7575,  0.1805,  0.8925,  0.7165,  0.276 ,\n",
        "        0.922 ,  0.907 ,  0.108 ,  0.1095,  0.892 ,  0.775 ,  0.1475,\n",
        "        0.8565,  0.9545,  0.3385,  0.178 ])"
       ]
      }
     ],
     "prompt_number": 39
    },
    {
     "cell_type": "heading",
     "level": 3,
     "metadata": {},
     "source": [
      "Implement model using Grid Search to see if the ROC can be improved"
     ]
    },
    {
     "cell_type": "code",
     "collapsed": false,
     "input": [
      "from sklearn.cross_validation import train_test_split\n",
      "from sklearn.metrics import classification_report\n",
      "from sklearn.metrics import confusion_matrix\n",
      "from sklearn.metrics import accuracy_score\n",
      "from sklearn.ensemble import RandomForestClassifier\n",
      "from sklearn.grid_search import GridSearchCV\n"
     ],
     "language": "python",
     "metadata": {},
     "outputs": [],
     "prompt_number": 40
    },
    {
     "cell_type": "code",
     "collapsed": false,
     "input": [
      "X_train, X_test, y_train, y_test = train_test_split(X, y, test_size=.2, random_state=42)"
     ],
     "language": "python",
     "metadata": {},
     "outputs": [],
     "prompt_number": 41
    },
    {
     "cell_type": "code",
     "collapsed": false,
     "input": [
      "### Grid Search\n",
      "n_estimators = [300,400,500]\n",
      "max_features = ['auto', 'sqrt','log2']\n",
      "min_samples_split = [3,5,7]\n",
      "\n",
      "\n",
      "rfc = RandomForestClassifier(n_jobs=1)\n",
      "#Parameters of pipelines can be set using \u2018__\u2019 separated parameter names:\n",
      "estimator = GridSearchCV(rfc,\n",
      "                         dict(n_estimators=n_estimators,\n",
      "                              max_features=max_features,\n",
      "                              min_samples_split=min_samples_split\n",
      "                              ), cv=None, n_jobs=-1)"
     ],
     "language": "python",
     "metadata": {},
     "outputs": [],
     "prompt_number": 42
    },
    {
     "cell_type": "code",
     "collapsed": false,
     "input": [
      "estimator.fit(X_train, y_train)"
     ],
     "language": "python",
     "metadata": {},
     "outputs": [
      {
       "metadata": {},
       "output_type": "pyout",
       "prompt_number": 43,
       "text": [
        "GridSearchCV(cv=None,\n",
        "       estimator=RandomForestClassifier(bootstrap=True, compute_importances=None,\n",
        "            criterion='gini', max_depth=None, max_features='auto',\n",
        "            max_leaf_nodes=None, min_density=None, min_samples_leaf=1,\n",
        "            min_samples_split=2, n_estimators=10, n_jobs=1,\n",
        "            oob_score=False, random_state=None, verbose=0),\n",
        "       fit_params={}, iid=True, loss_func=None, n_jobs=-1,\n",
        "       param_grid={'min_samples_split': [3, 5, 7], 'max_features': ['auto', 'sqrt', 'log2'], 'n_estimators': [300, 400, 500]},\n",
        "       pre_dispatch='2*n_jobs', refit=True, score_func=None, scoring=None,\n",
        "       verbose=0)"
       ]
      }
     ],
     "prompt_number": 43
    },
    {
     "cell_type": "code",
     "collapsed": false,
     "input": [
      "estimator.best_estimator_"
     ],
     "language": "python",
     "metadata": {},
     "outputs": [
      {
       "metadata": {},
       "output_type": "pyout",
       "prompt_number": 44,
       "text": [
        "RandomForestClassifier(bootstrap=True, compute_importances=None,\n",
        "            criterion='gini', max_depth=None, max_features='auto',\n",
        "            max_leaf_nodes=None, min_density=None, min_samples_leaf=1,\n",
        "            min_samples_split=7, n_estimators=400, n_jobs=1,\n",
        "            oob_score=False, random_state=None, verbose=0)"
       ]
      }
     ],
     "prompt_number": 44
    },
    {
     "cell_type": "code",
     "collapsed": false,
     "input": [
      "best_rfc = estimator.best_estimator_"
     ],
     "language": "python",
     "metadata": {},
     "outputs": [],
     "prompt_number": 45
    },
    {
     "cell_type": "heading",
     "level": 3,
     "metadata": {},
     "source": [
      "Accuracy"
     ]
    },
    {
     "cell_type": "code",
     "collapsed": false,
     "input": [
      "accuracy = accuracy_score(y_test, best_rfc.predict(X_test))\n",
      "print \"Accuracy: \", accuracy"
     ],
     "language": "python",
     "metadata": {},
     "outputs": [
      {
       "output_type": "stream",
       "stream": "stdout",
       "text": [
        "Accuracy:  0.642857142857\n"
       ]
      }
     ],
     "prompt_number": 46
    },
    {
     "cell_type": "code",
     "collapsed": false,
     "input": [
      "y_hat = best_rfc.predict(X_test)"
     ],
     "language": "python",
     "metadata": {},
     "outputs": [],
     "prompt_number": 47
    },
    {
     "cell_type": "heading",
     "level": 3,
     "metadata": {},
     "source": [
      "Classification report"
     ]
    },
    {
     "cell_type": "code",
     "collapsed": false,
     "input": [
      "print classification_report(y_test, best_rfc.predict(X_test))"
     ],
     "language": "python",
     "metadata": {},
     "outputs": [
      {
       "output_type": "stream",
       "stream": "stdout",
       "text": [
        "             precision    recall  f1-score   support\n",
        "\n",
        "          0       0.63      0.53      0.58        90\n",
        "          1       0.65      0.74      0.69       106\n",
        "\n",
        "avg / total       0.64      0.64      0.64       196\n",
        "\n"
       ]
      }
     ],
     "prompt_number": 48
    },
    {
     "cell_type": "heading",
     "level": 3,
     "metadata": {},
     "source": [
      "Confusion matrix"
     ]
    },
    {
     "cell_type": "code",
     "collapsed": false,
     "input": [
      "print confusion_matrix(y_test, best_rfc.predict(X_test))"
     ],
     "language": "python",
     "metadata": {},
     "outputs": [
      {
       "output_type": "stream",
       "stream": "stdout",
       "text": [
        "[[48 42]\n",
        " [28 78]]\n"
       ]
      }
     ],
     "prompt_number": 49
    },
    {
     "cell_type": "code",
     "collapsed": false,
     "input": [
      "A = pd.DataFrame()\n",
      "A['Q1'] = filteredDF['Q1']\n",
      "A['Q2'] = filteredDF['Q2']\n",
      "A['Q3'] = filteredDF['Q3']\n",
      "A['Q4'] = filteredDF['Q4']\n",
      "A['Q5'] = filteredDF['Q5']\n",
      "A['Q6'] = filteredDF['Q6']\n",
      "A['Q7'] = filteredDF['Q7']\n",
      "A['Q8'] = filteredDF['Q8']\n",
      "A['Q9'] = filteredDF['Q9']\n",
      "A['Q10'] = filteredDF['Q10']\n",
      "A['Q11'] = filteredDF['Q11']\n",
      "A['Q12'] = filteredDF['Q12']\n",
      "A['Q13'] = filteredDF['Q13']\n",
      "A['Q14'] = filteredDF['Q14']\n",
      "A['Q15'] = filteredDF['Q15']\n",
      "A['Q16'] = filteredDF['Q16']\n",
      "A['Q17'] = filteredDF['Q17']\n",
      "A['Q18'] = filteredDF['Q18']\n",
      "A['Q19'] = filteredDF['Q19']\n",
      "A['Q20'] = filteredDF['Q20']\n",
      "A['Q21'] = filteredDF['Q21']\n",
      "A['Q22'] = filteredDF['Q22']\n",
      "A['Q23'] = filteredDF['Q23']\n",
      "A['Q24'] = filteredDF['Q24']\n",
      "A['Q25'] = filteredDF['Q25']\n",
      "A['Q26'] = filteredDF['Q26']\n",
      "A['Q27'] = filteredDF['Q27']\n",
      "A['Q28'] = filteredDF['Q28']\n",
      "A['Q29'] = filteredDF['Q29']\n",
      "A['Q30'] = filteredDF['Q30']\n",
      "A['Q31'] = filteredDF['Q31']\n",
      "A['Q32'] = filteredDF['Q32']\n",
      "A['age'] = filteredDF['age']\n",
      "A['affiliative'] = filteredDF['affiliative']\n",
      "A['selfenhancing'] = filteredDF['selfenhancing']\n",
      "A['agressive'] = filteredDF['agressive']\n",
      "A['selfdefeating'] = filteredDF['selfdefeating']\n",
      "A['gender'] = filteredDF['gender']\n",
      "A['accuracy'] = filteredDF['accuracy']\n",
      "\n",
      "b = A.pop('gender')"
     ],
     "language": "python",
     "metadata": {},
     "outputs": [],
     "prompt_number": 50
    },
    {
     "cell_type": "code",
     "collapsed": false,
     "input": [
      "A_train, A_test, b_train, b_test = train_test_split(A, b, test_size=.2, random_state=42)"
     ],
     "language": "python",
     "metadata": {},
     "outputs": [],
     "prompt_number": 51
    },
    {
     "cell_type": "code",
     "collapsed": false,
     "input": [
      "estimator.fit(A_train, b_train)"
     ],
     "language": "python",
     "metadata": {},
     "outputs": [
      {
       "metadata": {},
       "output_type": "pyout",
       "prompt_number": 52,
       "text": [
        "GridSearchCV(cv=None,\n",
        "       estimator=RandomForestClassifier(bootstrap=True, compute_importances=None,\n",
        "            criterion='gini', max_depth=None, max_features='auto',\n",
        "            max_leaf_nodes=None, min_density=None, min_samples_leaf=1,\n",
        "            min_samples_split=2, n_estimators=10, n_jobs=1,\n",
        "            oob_score=False, random_state=None, verbose=0),\n",
        "       fit_params={}, iid=True, loss_func=None, n_jobs=-1,\n",
        "       param_grid={'min_samples_split': [3, 5, 7], 'max_features': ['auto', 'sqrt', 'log2'], 'n_estimators': [300, 400, 500]},\n",
        "       pre_dispatch='2*n_jobs', refit=True, score_func=None, scoring=None,\n",
        "       verbose=0)"
       ]
      }
     ],
     "prompt_number": 52
    },
    {
     "cell_type": "code",
     "collapsed": false,
     "input": [
      "estimator.best_estimator_"
     ],
     "language": "python",
     "metadata": {},
     "outputs": [
      {
       "metadata": {},
       "output_type": "pyout",
       "prompt_number": 53,
       "text": [
        "RandomForestClassifier(bootstrap=True, compute_importances=None,\n",
        "            criterion='gini', max_depth=None, max_features='sqrt',\n",
        "            max_leaf_nodes=None, min_density=None, min_samples_leaf=1,\n",
        "            min_samples_split=7, n_estimators=300, n_jobs=1,\n",
        "            oob_score=False, random_state=None, verbose=0)"
       ]
      }
     ],
     "prompt_number": 53
    },
    {
     "cell_type": "code",
     "collapsed": false,
     "input": [
      "accuracy = accuracy_score(y_test, best_rfc.predict(X_test))\n",
      "print \"Accuracy: \", accuracy"
     ],
     "language": "python",
     "metadata": {},
     "outputs": [
      {
       "output_type": "stream",
       "stream": "stdout",
       "text": [
        "Accuracy:  0.642857142857\n"
       ]
      }
     ],
     "prompt_number": 54
    },
    {
     "cell_type": "heading",
     "level": 3,
     "metadata": {},
     "source": [
      "The accuracy is comparable between the two estimators."
     ]
    },
    {
     "cell_type": "heading",
     "level": 3,
     "metadata": {},
     "source": [
      "Now try using linear regression on features"
     ]
    },
    {
     "cell_type": "code",
     "collapsed": false,
     "input": [
      "C = pd.DataFrame()\n",
      "\n",
      "C['age'] = filteredDF['age']\n",
      "A['affiliative'] = filteredDF['affiliative']\n",
      "A['selfenhancing'] = filteredDF['selfenhancing']\n",
      "A['agressive'] = filteredDF['agressive']\n",
      "A['selfdefeating'] = filteredDF['selfdefeating']\n",
      "C['accuracy'] = filteredDF['accuracy']\n",
      "\n",
      "d = C.pop('accuracy')"
     ],
     "language": "python",
     "metadata": {},
     "outputs": [],
     "prompt_number": 67
    },
    {
     "cell_type": "code",
     "collapsed": false,
     "input": [
      "from sklearn.linear_model import LinearRegression\n",
      "lr = LinearRegression()\n",
      "lr.fit(C, d)\n",
      "\n",
      "# print intercept and coefficients\n",
      "print lr.intercept_\n",
      "print lr.coef_"
     ],
     "language": "python",
     "metadata": {},
     "outputs": [
      {
       "output_type": "stream",
       "stream": "stdout",
       "text": [
        "86.7606477839\n",
        "[ 0.0357863]\n"
       ]
      }
     ],
     "prompt_number": 68
    },
    {
     "cell_type": "code",
     "collapsed": false,
     "input": [
      "lr.score(C, d)"
     ],
     "language": "python",
     "metadata": {},
     "outputs": [
      {
       "metadata": {},
       "output_type": "pyout",
       "prompt_number": 69,
       "text": [
        "0.0011393487126779567"
       ]
      }
     ],
     "prompt_number": 69
    },
    {
     "cell_type": "code",
     "collapsed": false,
     "input": [
      "E = pd.DataFrame()\n",
      "\n",
      "E['age'] = filteredDF['age']\n",
      "E['affiliative'] = filteredDF['affiliative']\n",
      "E['selfenhancing'] = filteredDF['selfenhancing']\n",
      "\n",
      "f = E.pop('age')"
     ],
     "language": "python",
     "metadata": {},
     "outputs": [],
     "prompt_number": 70
    },
    {
     "cell_type": "code",
     "collapsed": false,
     "input": [
      "lr = LinearRegression()\n",
      "lr.fit(C, d)\n",
      "lr.score(C, d)"
     ],
     "language": "python",
     "metadata": {},
     "outputs": [
      {
       "metadata": {},
       "output_type": "pyout",
       "prompt_number": 71,
       "text": [
        "0.0011393487126779567"
       ]
      }
     ],
     "prompt_number": 71
    },
    {
     "cell_type": "code",
     "collapsed": false,
     "input": [],
     "language": "python",
     "metadata": {},
     "outputs": []
    }
   ],
   "metadata": {}
  }
 ]
}